{
 "cells": [
  {
   "cell_type": "code",
   "execution_count": 1,
   "metadata": {},
   "outputs": [],
   "source": [
    "from bs4 import BeautifulSoup\n",
    "import requests\n",
    "import time\n",
    "import datetime\n",
    "import pandas as pd\n",
    "\n",
    "import smtplib"
   ]
  },
  {
   "cell_type": "code",
   "execution_count": 5,
   "metadata": {},
   "outputs": [
    {
     "name": "stdout",
     "output_type": "stream",
     "text": [
      "\n",
      "     Amazon Basics 36 Pack AAA High-Performance Alkaline Batteries, 10-Year Shelf Life, Easy to Open Value Pack\n",
      "    \n",
      "\n",
      "                      $10.99\n",
      "                     \n",
      "\n",
      "      375,682 ratings\n",
      "     \n",
      "\n",
      "\n",
      "    In Stock.\n",
      "   \n",
      "\n",
      "\n"
     ]
    }
   ],
   "source": [
    "URL = 'https://www.amazon.com/AmazonBasics-Performance-Alkaline-Batteries-Count/dp/B00LH3DMUO/ref=lp_17938598011_1_7?th=1'\n",
    "\n",
    "headers = {\"User-Agent\": \"Mozilla/5.0 (Windows NT 10.0; Win64; x64) AppleWebKit/537.36 (KHTML, like Gecko) Chrome/96.0.4664.45 Safari/537.36\", \"Accept-Encoding\": \"gzip, deflate\", \"Accept\": \"text/html,application/xhtml+xml,application/xml;q=0.9,image/avif,image/webp,image/apng,*/*;q=0.8,application/signed-exchange;v=b3;q=0.9\",}\n",
    "\n",
    "page = requests.get(URL, headers=headers)\n",
    "\n",
    "soup1 = BeautifulSoup(page.content, 'html.parser')\n",
    "soup2 = BeautifulSoup(soup1.prettify(), 'html.parser')\n",
    "\n",
    "title = soup2.find(id='productTitle').get_text()\n",
    "price = soup2.find(id='price_inside_buybox').get_text()\n",
    "reviewsNum = soup2.find(id='acrCustomerReviewText').get_text()\n",
    "availability = soup2.find(id='availability').get_text()\n",
    "\n",
    "print(title)\n",
    "print(price)\n",
    "print(reviewsNum)\n",
    "print(availability)"
   ]
  },
  {
   "cell_type": "code",
   "execution_count": 6,
   "metadata": {},
   "outputs": [
    {
     "name": "stdout",
     "output_type": "stream",
     "text": [
      "Amazon Basics 36 Pack AAA High-Performance Alkaline Batteries, 10-Year Shelf Life, Easy to Open Value Pack\n",
      "10.99\n",
      "375,682\n",
      "In Stock.\n"
     ]
    }
   ],
   "source": [
    "title = title.strip()\n",
    "price = price.strip()[1:]\n",
    "reviewsNum = reviewsNum.strip().split(' ')[0]\n",
    "availability = availability.strip()\n",
    "\n",
    "print(title)\n",
    "print(price)\n",
    "print(reviewsNum)\n",
    "print(availability)"
   ]
  },
  {
   "cell_type": "code",
   "execution_count": 7,
   "metadata": {},
   "outputs": [
    {
     "name": "stdout",
     "output_type": "stream",
     "text": [
      "2021-12-16\n"
     ]
    }
   ],
   "source": [
    "# creating a timestamp\n",
    "\n",
    "import datetime\n",
    "\n",
    "today = datetime.date.today()\n",
    "print(today)"
   ]
  },
  {
   "cell_type": "code",
   "execution_count": 10,
   "metadata": {},
   "outputs": [],
   "source": [
    "# creating csv\n",
    "\n",
    "import csv\n",
    "\n",
    "header = ['Title', 'Price', 'Number of Reviews', 'Availability', 'Date']\n",
    "data = [title, price, reviewsNum, availability, today]\n",
    "\n",
    "with open('AmazonWebScrData.csv', 'w', newline='', encoding='UTF8') as f:\n",
    "    writer = csv.writer(f)\n",
    "    writer.writerow(header)\n",
    "    writer.writerow(data)"
   ]
  },
  {
   "cell_type": "code",
   "execution_count": 16,
   "metadata": {},
   "outputs": [
    {
     "name": "stdout",
     "output_type": "stream",
     "text": [
      "                                               Title  Price Number of Reviews  \\\n",
      "0  Amazon Basics 36 Pack AAA High-Performance Alk...  10.99           375,682   \n",
      "1  Amazon Basics 36 Pack AAA High-Performance Alk...  10.99           375,682   \n",
      "2  Amazon Basics 36 Pack AAA High-Performance Alk...  10.99           375,682   \n",
      "3  Amazon Basics 36 Pack AAA High-Performance Alk...  10.99           375,682   \n",
      "4  Amazon Basics 36 Pack AAA High-Performance Alk...  10.99           375,682   \n",
      "\n",
      "  Availability        Date  \n",
      "0    In Stock.  2021-12-16  \n",
      "1    In Stock.  2021-12-16  \n",
      "2    In Stock.  2021-12-16  \n",
      "3    In Stock.  2021-12-16  \n",
      "4    In Stock.  2021-12-16  \n"
     ]
    }
   ],
   "source": [
    "df = pd.read_csv(r'C:\\Users\\mdabr\\OneDrive\\DATA ANALYTICS\\Portfolio\\AmazonWebScrData.csv')\n",
    "\n",
    "print(df)"
   ]
  },
  {
   "cell_type": "code",
   "execution_count": 15,
   "metadata": {},
   "outputs": [],
   "source": [
    "# appending data to the csv\n",
    "\n",
    "with open('AmazonWebScrData.csv', 'a+', newline='', encoding='UTF8') as f:\n",
    "    writer = csv.writer(f)\n",
    "    writer.writerow(data)"
   ]
  },
  {
   "cell_type": "markdown",
   "metadata": {},
   "source": [
    "## Automating the update"
   ]
  },
  {
   "cell_type": "code",
   "execution_count": 17,
   "metadata": {},
   "outputs": [],
   "source": [
    "# combining all the above into one function\n",
    "\n",
    "def check_product():\n",
    "    URL = 'https://www.amazon.com/AmazonBasics-Performance-Alkaline-Batteries-Count/dp/B00LH3DMUO/ref=lp_17938598011_1_7?th=1'\n",
    "\n",
    "    headers = {\"User-Agent\": \"Mozilla/5.0 (Windows NT 10.0; Win64; x64) AppleWebKit/537.36 (KHTML, like Gecko) Chrome/96.0.4664.45 Safari/537.36\", \"Accept-Encoding\": \"gzip, deflate\", \"Accept\": \"text/html,application/xhtml+xml,application/xml;q=0.9,image/avif,image/webp,image/apng,*/*;q=0.8,application/signed-exchange;v=b3;q=0.9\",}\n",
    "\n",
    "    page = requests.get(URL, headers=headers)\n",
    "\n",
    "    soup1 = BeautifulSoup(page.content, 'html.parser')\n",
    "    soup2 = BeautifulSoup(soup1.prettify(), 'html.parser')\n",
    "\n",
    "    title = soup2.find(id='productTitle').get_text()\n",
    "    price = soup2.find(id='price_inside_buybox').get_text()\n",
    "    reviewsNum = soup2.find(id='acrCustomerReviewText').get_text()\n",
    "\n",
    "    title = title.strip()\n",
    "    price = price.strip()[1:]\n",
    "    reviewsNum = reviewsNum.strip().split(' ')[0]\n",
    "\n",
    "    import datetime\n",
    "    today = datetime.date.today()\n",
    "\n",
    "    import csv\n",
    "\n",
    "    header = ['Title', 'Price', 'Number of Reviews', 'Date']\n",
    "    data = [title, price, reviewsNum, today]\n",
    "\n",
    "    with open('AmazonWebScrData.csv', 'a+', newline='', encoding='UTF8') as f:\n",
    "        writer = csv.writer(f)\n",
    "        writer.writerow(data)   "
   ]
  },
  {
   "cell_type": "code",
   "execution_count": null,
   "metadata": {},
   "outputs": [],
   "source": [
    "# Runs check_product every 24h\n",
    "\n",
    "while(True):\n",
    "    check_product()\n",
    "    time.sleep(86400)"
   ]
  },
  {
   "cell_type": "code",
   "execution_count": 18,
   "metadata": {},
   "outputs": [
    {
     "name": "stdout",
     "output_type": "stream",
     "text": [
      "                                               Title  Price Number of Reviews  \\\n",
      "0  Amazon Basics 36 Pack AAA High-Performance Alk...  10.99           375,682   \n",
      "1  Amazon Basics 36 Pack AAA High-Performance Alk...  10.99           375,682   \n",
      "2  Amazon Basics 36 Pack AAA High-Performance Alk...  10.99           375,682   \n",
      "3  Amazon Basics 36 Pack AAA High-Performance Alk...  10.99           375,682   \n",
      "4  Amazon Basics 36 Pack AAA High-Performance Alk...  10.99           375,682   \n",
      "\n",
      "  Availability        Date  \n",
      "0    In Stock.  2021-12-16  \n",
      "1    In Stock.  2021-12-16  \n",
      "2    In Stock.  2021-12-16  \n",
      "3    In Stock.  2021-12-16  \n",
      "4    In Stock.  2021-12-16  \n"
     ]
    }
   ],
   "source": [
    "df = pd.read_csv(r'C:\\Users\\mdabr\\OneDrive\\DATA ANALYTICS\\Portfolio\\AmazonWebScrData.csv')\n",
    "\n",
    "print(df)"
   ]
  }
 ],
 "metadata": {
  "kernelspec": {
   "display_name": "Python 3",
   "language": "python",
   "name": "python3"
  },
  "language_info": {
   "codemirror_mode": {
    "name": "ipython",
    "version": 3
   },
   "file_extension": ".py",
   "mimetype": "text/x-python",
   "name": "python",
   "nbconvert_exporter": "python",
   "pygments_lexer": "ipython3",
   "version": "3.8.3"
  }
 },
 "nbformat": 4,
 "nbformat_minor": 4
}

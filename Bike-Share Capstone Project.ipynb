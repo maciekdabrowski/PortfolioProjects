{
 "cells": [
  {
   "cell_type": "code",
   "execution_count": 1,
   "id": "3fe848fa",
   "metadata": {},
   "outputs": [
    {
     "name": "stdout",
     "output_type": "stream",
     "text": [
      "package 'tidyverse' successfully unpacked and MD5 sums checked\n",
      "\n",
      "The downloaded binary packages are in\n",
      "\tC:\\Users\\mdabr\\AppData\\Local\\Temp\\RtmpAhrO6S\\downloaded_packages\n",
      "\n",
      "  There is a binary version available but the source version is later:\n",
      "          binary source needs_compilation\n",
      "lubridate 1.7.10  1.8.0              TRUE\n",
      "\n",
      "  Binaries will be installed\n",
      "package 'lubridate' successfully unpacked and MD5 sums checked\n",
      "\n",
      "The downloaded binary packages are in\n",
      "\tC:\\Users\\mdabr\\AppData\\Local\\Temp\\RtmpAhrO6S\\downloaded_packages\n",
      "\n",
      "  There is a binary version available but the source version is later:\n",
      "        binary source needs_compilation\n",
      "ggplot2  3.3.3  3.3.5             FALSE\n",
      "\n"
     ]
    },
    {
     "name": "stderr",
     "output_type": "stream",
     "text": [
      "installing the source package 'ggplot2'\n",
      "\n",
      "\n"
     ]
    }
   ],
   "source": [
    "install.packages(\"tidyverse\")\n",
    "install.packages(\"lubridate\")\n",
    "install.packages(\"ggplot2\")"
   ]
  },
  {
   "cell_type": "code",
   "execution_count": 2,
   "id": "3ac58290",
   "metadata": {},
   "outputs": [
    {
     "name": "stderr",
     "output_type": "stream",
     "text": [
      "-- \u001b[1mAttaching packages\u001b[22m --------------------------------------- tidyverse 1.3.1 --\n",
      "\n",
      "\u001b[32mv\u001b[39m \u001b[34mggplot2\u001b[39m 3.3.5     \u001b[32mv\u001b[39m \u001b[34mpurrr  \u001b[39m 0.3.4\n",
      "\u001b[32mv\u001b[39m \u001b[34mtibble \u001b[39m 3.1.1     \u001b[32mv\u001b[39m \u001b[34mdplyr  \u001b[39m 1.0.6\n",
      "\u001b[32mv\u001b[39m \u001b[34mtidyr  \u001b[39m 1.1.3     \u001b[32mv\u001b[39m \u001b[34mstringr\u001b[39m 1.4.0\n",
      "\u001b[32mv\u001b[39m \u001b[34mreadr  \u001b[39m 1.4.0     \u001b[32mv\u001b[39m \u001b[34mforcats\u001b[39m 0.5.1\n",
      "\n",
      "-- \u001b[1mConflicts\u001b[22m ------------------------------------------ tidyverse_conflicts() --\n",
      "\u001b[31mx\u001b[39m \u001b[34mdplyr\u001b[39m::\u001b[32mfilter()\u001b[39m masks \u001b[34mstats\u001b[39m::filter()\n",
      "\u001b[31mx\u001b[39m \u001b[34mdplyr\u001b[39m::\u001b[32mlag()\u001b[39m    masks \u001b[34mstats\u001b[39m::lag()\n",
      "\n",
      "\n",
      "Attaching package: 'lubridate'\n",
      "\n",
      "\n",
      "The following objects are masked from 'package:base':\n",
      "\n",
      "    date, intersect, setdiff, union\n",
      "\n",
      "\n"
     ]
    }
   ],
   "source": [
    "library(tidyverse)\n",
    "library(lubridate)\n",
    "library(ggplot2)"
   ]
  },
  {
   "cell_type": "code",
   "execution_count": 3,
   "id": "8bd554f2",
   "metadata": {},
   "outputs": [
    {
     "data": {
      "text/html": [
       "'C:/Users/mdabr'"
      ],
      "text/latex": [
       "'C:/Users/mdabr'"
      ],
      "text/markdown": [
       "'C:/Users/mdabr'"
      ],
      "text/plain": [
       "[1] \"C:/Users/mdabr\""
      ]
     },
     "metadata": {},
     "output_type": "display_data"
    }
   ],
   "source": [
    "getwd()"
   ]
  },
  {
   "cell_type": "code",
   "execution_count": 5,
   "id": "00631f96",
   "metadata": {},
   "outputs": [],
   "source": [
    "setwd(\"C:/Users/mdabr/OneDrive/DATA ANALYTICS/Portfolio/Capstone Project\")"
   ]
  },
  {
   "cell_type": "markdown",
   "id": "be885c61",
   "metadata": {},
   "source": [
    "## Collecting Data"
   ]
  },
  {
   "cell_type": "code",
   "execution_count": 6,
   "id": "7d8d1dc5",
   "metadata": {},
   "outputs": [
    {
     "name": "stderr",
     "output_type": "stream",
     "text": [
      "\n",
      "\u001b[36m--\u001b[39m \u001b[1m\u001b[1mColumn specification\u001b[1m\u001b[22m \u001b[36m--------------------------------------------------------\u001b[39m\n",
      "cols(\n",
      "  `01 - Rental Details Rental ID` = \u001b[32mcol_double()\u001b[39m,\n",
      "  `01 - Rental Details Local Start Time` = \u001b[34mcol_datetime(format = \"\")\u001b[39m,\n",
      "  `01 - Rental Details Local End Time` = \u001b[34mcol_datetime(format = \"\")\u001b[39m,\n",
      "  `01 - Rental Details Bike ID` = \u001b[32mcol_double()\u001b[39m,\n",
      "  `01 - Rental Details Duration In Seconds Uncapped` = \u001b[32mcol_number()\u001b[39m,\n",
      "  `03 - Rental Start Station ID` = \u001b[32mcol_double()\u001b[39m,\n",
      "  `03 - Rental Start Station Name` = \u001b[31mcol_character()\u001b[39m,\n",
      "  `02 - Rental End Station ID` = \u001b[32mcol_double()\u001b[39m,\n",
      "  `02 - Rental End Station Name` = \u001b[31mcol_character()\u001b[39m,\n",
      "  `User Type` = \u001b[31mcol_character()\u001b[39m,\n",
      "  `Member Gender` = \u001b[31mcol_character()\u001b[39m,\n",
      "  `05 - Member Details Member Birthday Year` = \u001b[32mcol_double()\u001b[39m\n",
      ")\n",
      "\n",
      "\n"
     ]
    }
   ],
   "source": [
    "q2_2019 <- read_csv(\"Divvy_Trips_2019_Q2.csv\")"
   ]
  },
  {
   "cell_type": "code",
   "execution_count": 7,
   "id": "cab0f2dc",
   "metadata": {},
   "outputs": [
    {
     "name": "stderr",
     "output_type": "stream",
     "text": [
      "\n",
      "\u001b[36m--\u001b[39m \u001b[1m\u001b[1mColumn specification\u001b[1m\u001b[22m \u001b[36m--------------------------------------------------------\u001b[39m\n",
      "cols(\n",
      "  trip_id = \u001b[32mcol_double()\u001b[39m,\n",
      "  start_time = \u001b[34mcol_datetime(format = \"\")\u001b[39m,\n",
      "  end_time = \u001b[34mcol_datetime(format = \"\")\u001b[39m,\n",
      "  bikeid = \u001b[32mcol_double()\u001b[39m,\n",
      "  tripduration = \u001b[32mcol_number()\u001b[39m,\n",
      "  from_station_id = \u001b[32mcol_double()\u001b[39m,\n",
      "  from_station_name = \u001b[31mcol_character()\u001b[39m,\n",
      "  to_station_id = \u001b[32mcol_double()\u001b[39m,\n",
      "  to_station_name = \u001b[31mcol_character()\u001b[39m,\n",
      "  usertype = \u001b[31mcol_character()\u001b[39m,\n",
      "  gender = \u001b[31mcol_character()\u001b[39m,\n",
      "  birthyear = \u001b[32mcol_double()\u001b[39m\n",
      ")\n",
      "\n",
      "\n"
     ]
    }
   ],
   "source": [
    "q3_2019 <- read_csv(\"Divvy_Trips_2019_Q3.csv\")"
   ]
  },
  {
   "cell_type": "code",
   "execution_count": 8,
   "id": "d29d1c2d",
   "metadata": {},
   "outputs": [
    {
     "name": "stderr",
     "output_type": "stream",
     "text": [
      "\n",
      "\u001b[36m--\u001b[39m \u001b[1m\u001b[1mColumn specification\u001b[1m\u001b[22m \u001b[36m--------------------------------------------------------\u001b[39m\n",
      "cols(\n",
      "  trip_id = \u001b[32mcol_double()\u001b[39m,\n",
      "  start_time = \u001b[34mcol_datetime(format = \"\")\u001b[39m,\n",
      "  end_time = \u001b[34mcol_datetime(format = \"\")\u001b[39m,\n",
      "  bikeid = \u001b[32mcol_double()\u001b[39m,\n",
      "  tripduration = \u001b[32mcol_number()\u001b[39m,\n",
      "  from_station_id = \u001b[32mcol_double()\u001b[39m,\n",
      "  from_station_name = \u001b[31mcol_character()\u001b[39m,\n",
      "  to_station_id = \u001b[32mcol_double()\u001b[39m,\n",
      "  to_station_name = \u001b[31mcol_character()\u001b[39m,\n",
      "  usertype = \u001b[31mcol_character()\u001b[39m,\n",
      "  gender = \u001b[31mcol_character()\u001b[39m,\n",
      "  birthyear = \u001b[32mcol_double()\u001b[39m\n",
      ")\n",
      "\n",
      "\n"
     ]
    }
   ],
   "source": [
    "q4_2019 <- read_csv(\"Divvy_Trips_2019_Q4.csv\")"
   ]
  },
  {
   "cell_type": "code",
   "execution_count": 9,
   "id": "44140ff1",
   "metadata": {},
   "outputs": [
    {
     "name": "stderr",
     "output_type": "stream",
     "text": [
      "\n",
      "\u001b[36m--\u001b[39m \u001b[1m\u001b[1mColumn specification\u001b[1m\u001b[22m \u001b[36m--------------------------------------------------------\u001b[39m\n",
      "cols(\n",
      "  ride_id = \u001b[31mcol_character()\u001b[39m,\n",
      "  rideable_type = \u001b[31mcol_character()\u001b[39m,\n",
      "  started_at = \u001b[34mcol_datetime(format = \"\")\u001b[39m,\n",
      "  ended_at = \u001b[34mcol_datetime(format = \"\")\u001b[39m,\n",
      "  start_station_name = \u001b[31mcol_character()\u001b[39m,\n",
      "  start_station_id = \u001b[32mcol_double()\u001b[39m,\n",
      "  end_station_name = \u001b[31mcol_character()\u001b[39m,\n",
      "  end_station_id = \u001b[32mcol_double()\u001b[39m,\n",
      "  start_lat = \u001b[32mcol_double()\u001b[39m,\n",
      "  start_lng = \u001b[32mcol_double()\u001b[39m,\n",
      "  end_lat = \u001b[32mcol_double()\u001b[39m,\n",
      "  end_lng = \u001b[32mcol_double()\u001b[39m,\n",
      "  member_casual = \u001b[31mcol_character()\u001b[39m\n",
      ")\n",
      "\n",
      "\n"
     ]
    }
   ],
   "source": [
    "q1_2020 <- read_csv(\"Divvy_Trips_2020_Q1.csv\")"
   ]
  },
  {
   "cell_type": "markdown",
   "id": "55cd237f",
   "metadata": {},
   "source": [
    "## Wrangling Data"
   ]
  },
  {
   "cell_type": "code",
   "execution_count": 10,
   "id": "59716d9a",
   "metadata": {},
   "outputs": [
    {
     "data": {
      "text/html": [
       "<ol class=list-inline>\n",
       "\t<li>'01 - Rental Details Rental ID'</li>\n",
       "\t<li>'01 - Rental Details Local Start Time'</li>\n",
       "\t<li>'01 - Rental Details Local End Time'</li>\n",
       "\t<li>'01 - Rental Details Bike ID'</li>\n",
       "\t<li>'01 - Rental Details Duration In Seconds Uncapped'</li>\n",
       "\t<li>'03 - Rental Start Station ID'</li>\n",
       "\t<li>'03 - Rental Start Station Name'</li>\n",
       "\t<li>'02 - Rental End Station ID'</li>\n",
       "\t<li>'02 - Rental End Station Name'</li>\n",
       "\t<li>'User Type'</li>\n",
       "\t<li>'Member Gender'</li>\n",
       "\t<li>'05 - Member Details Member Birthday Year'</li>\n",
       "</ol>\n"
      ],
      "text/latex": [
       "\\begin{enumerate*}\n",
       "\\item '01 - Rental Details Rental ID'\n",
       "\\item '01 - Rental Details Local Start Time'\n",
       "\\item '01 - Rental Details Local End Time'\n",
       "\\item '01 - Rental Details Bike ID'\n",
       "\\item '01 - Rental Details Duration In Seconds Uncapped'\n",
       "\\item '03 - Rental Start Station ID'\n",
       "\\item '03 - Rental Start Station Name'\n",
       "\\item '02 - Rental End Station ID'\n",
       "\\item '02 - Rental End Station Name'\n",
       "\\item 'User Type'\n",
       "\\item 'Member Gender'\n",
       "\\item '05 - Member Details Member Birthday Year'\n",
       "\\end{enumerate*}\n"
      ],
      "text/markdown": [
       "1. '01 - Rental Details Rental ID'\n",
       "2. '01 - Rental Details Local Start Time'\n",
       "3. '01 - Rental Details Local End Time'\n",
       "4. '01 - Rental Details Bike ID'\n",
       "5. '01 - Rental Details Duration In Seconds Uncapped'\n",
       "6. '03 - Rental Start Station ID'\n",
       "7. '03 - Rental Start Station Name'\n",
       "8. '02 - Rental End Station ID'\n",
       "9. '02 - Rental End Station Name'\n",
       "10. 'User Type'\n",
       "11. 'Member Gender'\n",
       "12. '05 - Member Details Member Birthday Year'\n",
       "\n",
       "\n"
      ],
      "text/plain": [
       " [1] \"01 - Rental Details Rental ID\"                   \n",
       " [2] \"01 - Rental Details Local Start Time\"            \n",
       " [3] \"01 - Rental Details Local End Time\"              \n",
       " [4] \"01 - Rental Details Bike ID\"                     \n",
       " [5] \"01 - Rental Details Duration In Seconds Uncapped\"\n",
       " [6] \"03 - Rental Start Station ID\"                    \n",
       " [7] \"03 - Rental Start Station Name\"                  \n",
       " [8] \"02 - Rental End Station ID\"                      \n",
       " [9] \"02 - Rental End Station Name\"                    \n",
       "[10] \"User Type\"                                       \n",
       "[11] \"Member Gender\"                                   \n",
       "[12] \"05 - Member Details Member Birthday Year\"        "
      ]
     },
     "metadata": {},
     "output_type": "display_data"
    }
   ],
   "source": [
    "colnames(q2_2019)"
   ]
  },
  {
   "cell_type": "code",
   "execution_count": 11,
   "id": "809120f9",
   "metadata": {},
   "outputs": [
    {
     "data": {
      "text/html": [
       "<ol class=list-inline>\n",
       "\t<li>'trip_id'</li>\n",
       "\t<li>'start_time'</li>\n",
       "\t<li>'end_time'</li>\n",
       "\t<li>'bikeid'</li>\n",
       "\t<li>'tripduration'</li>\n",
       "\t<li>'from_station_id'</li>\n",
       "\t<li>'from_station_name'</li>\n",
       "\t<li>'to_station_id'</li>\n",
       "\t<li>'to_station_name'</li>\n",
       "\t<li>'usertype'</li>\n",
       "\t<li>'gender'</li>\n",
       "\t<li>'birthyear'</li>\n",
       "</ol>\n"
      ],
      "text/latex": [
       "\\begin{enumerate*}\n",
       "\\item 'trip\\_id'\n",
       "\\item 'start\\_time'\n",
       "\\item 'end\\_time'\n",
       "\\item 'bikeid'\n",
       "\\item 'tripduration'\n",
       "\\item 'from\\_station\\_id'\n",
       "\\item 'from\\_station\\_name'\n",
       "\\item 'to\\_station\\_id'\n",
       "\\item 'to\\_station\\_name'\n",
       "\\item 'usertype'\n",
       "\\item 'gender'\n",
       "\\item 'birthyear'\n",
       "\\end{enumerate*}\n"
      ],
      "text/markdown": [
       "1. 'trip_id'\n",
       "2. 'start_time'\n",
       "3. 'end_time'\n",
       "4. 'bikeid'\n",
       "5. 'tripduration'\n",
       "6. 'from_station_id'\n",
       "7. 'from_station_name'\n",
       "8. 'to_station_id'\n",
       "9. 'to_station_name'\n",
       "10. 'usertype'\n",
       "11. 'gender'\n",
       "12. 'birthyear'\n",
       "\n",
       "\n"
      ],
      "text/plain": [
       " [1] \"trip_id\"           \"start_time\"        \"end_time\"         \n",
       " [4] \"bikeid\"            \"tripduration\"      \"from_station_id\"  \n",
       " [7] \"from_station_name\" \"to_station_id\"     \"to_station_name\"  \n",
       "[10] \"usertype\"          \"gender\"            \"birthyear\"        "
      ]
     },
     "metadata": {},
     "output_type": "display_data"
    }
   ],
   "source": [
    "colnames(q3_2019)"
   ]
  },
  {
   "cell_type": "code",
   "execution_count": 12,
   "id": "a8108a32",
   "metadata": {},
   "outputs": [
    {
     "data": {
      "text/html": [
       "<ol class=list-inline>\n",
       "\t<li>'trip_id'</li>\n",
       "\t<li>'start_time'</li>\n",
       "\t<li>'end_time'</li>\n",
       "\t<li>'bikeid'</li>\n",
       "\t<li>'tripduration'</li>\n",
       "\t<li>'from_station_id'</li>\n",
       "\t<li>'from_station_name'</li>\n",
       "\t<li>'to_station_id'</li>\n",
       "\t<li>'to_station_name'</li>\n",
       "\t<li>'usertype'</li>\n",
       "\t<li>'gender'</li>\n",
       "\t<li>'birthyear'</li>\n",
       "</ol>\n"
      ],
      "text/latex": [
       "\\begin{enumerate*}\n",
       "\\item 'trip\\_id'\n",
       "\\item 'start\\_time'\n",
       "\\item 'end\\_time'\n",
       "\\item 'bikeid'\n",
       "\\item 'tripduration'\n",
       "\\item 'from\\_station\\_id'\n",
       "\\item 'from\\_station\\_name'\n",
       "\\item 'to\\_station\\_id'\n",
       "\\item 'to\\_station\\_name'\n",
       "\\item 'usertype'\n",
       "\\item 'gender'\n",
       "\\item 'birthyear'\n",
       "\\end{enumerate*}\n"
      ],
      "text/markdown": [
       "1. 'trip_id'\n",
       "2. 'start_time'\n",
       "3. 'end_time'\n",
       "4. 'bikeid'\n",
       "5. 'tripduration'\n",
       "6. 'from_station_id'\n",
       "7. 'from_station_name'\n",
       "8. 'to_station_id'\n",
       "9. 'to_station_name'\n",
       "10. 'usertype'\n",
       "11. 'gender'\n",
       "12. 'birthyear'\n",
       "\n",
       "\n"
      ],
      "text/plain": [
       " [1] \"trip_id\"           \"start_time\"        \"end_time\"         \n",
       " [4] \"bikeid\"            \"tripduration\"      \"from_station_id\"  \n",
       " [7] \"from_station_name\" \"to_station_id\"     \"to_station_name\"  \n",
       "[10] \"usertype\"          \"gender\"            \"birthyear\"        "
      ]
     },
     "metadata": {},
     "output_type": "display_data"
    }
   ],
   "source": [
    "colnames(q4_2019)"
   ]
  },
  {
   "cell_type": "code",
   "execution_count": 13,
   "id": "adef1db8",
   "metadata": {},
   "outputs": [
    {
     "data": {
      "text/html": [
       "<ol class=list-inline>\n",
       "\t<li>'ride_id'</li>\n",
       "\t<li>'rideable_type'</li>\n",
       "\t<li>'started_at'</li>\n",
       "\t<li>'ended_at'</li>\n",
       "\t<li>'start_station_name'</li>\n",
       "\t<li>'start_station_id'</li>\n",
       "\t<li>'end_station_name'</li>\n",
       "\t<li>'end_station_id'</li>\n",
       "\t<li>'start_lat'</li>\n",
       "\t<li>'start_lng'</li>\n",
       "\t<li>'end_lat'</li>\n",
       "\t<li>'end_lng'</li>\n",
       "\t<li>'member_casual'</li>\n",
       "</ol>\n"
      ],
      "text/latex": [
       "\\begin{enumerate*}\n",
       "\\item 'ride\\_id'\n",
       "\\item 'rideable\\_type'\n",
       "\\item 'started\\_at'\n",
       "\\item 'ended\\_at'\n",
       "\\item 'start\\_station\\_name'\n",
       "\\item 'start\\_station\\_id'\n",
       "\\item 'end\\_station\\_name'\n",
       "\\item 'end\\_station\\_id'\n",
       "\\item 'start\\_lat'\n",
       "\\item 'start\\_lng'\n",
       "\\item 'end\\_lat'\n",
       "\\item 'end\\_lng'\n",
       "\\item 'member\\_casual'\n",
       "\\end{enumerate*}\n"
      ],
      "text/markdown": [
       "1. 'ride_id'\n",
       "2. 'rideable_type'\n",
       "3. 'started_at'\n",
       "4. 'ended_at'\n",
       "5. 'start_station_name'\n",
       "6. 'start_station_id'\n",
       "7. 'end_station_name'\n",
       "8. 'end_station_id'\n",
       "9. 'start_lat'\n",
       "10. 'start_lng'\n",
       "11. 'end_lat'\n",
       "12. 'end_lng'\n",
       "13. 'member_casual'\n",
       "\n",
       "\n"
      ],
      "text/plain": [
       " [1] \"ride_id\"            \"rideable_type\"      \"started_at\"        \n",
       " [4] \"ended_at\"           \"start_station_name\" \"start_station_id\"  \n",
       " [7] \"end_station_name\"   \"end_station_id\"     \"start_lat\"         \n",
       "[10] \"start_lng\"          \"end_lat\"            \"end_lng\"           \n",
       "[13] \"member_casual\"     "
      ]
     },
     "metadata": {},
     "output_type": "display_data"
    }
   ],
   "source": [
    "colnames(q1_2020)"
   ]
  },
  {
   "cell_type": "markdown",
   "id": "7501e751",
   "metadata": {},
   "source": [
    "#### renaming the columns to make them consistent with q1_2020"
   ]
  },
  {
   "cell_type": "code",
   "execution_count": 14,
   "id": "f9100e05",
   "metadata": {},
   "outputs": [],
   "source": [
    "q2_2019 <- rename(q2_2019\n",
    "                  ,ride_id = \"01 - Rental Details Rental ID\"\n",
    "                  ,rideable_type = \"01 - Rental Details Bike ID\" \n",
    "                  ,started_at = \"01 - Rental Details Local Start Time\"  \n",
    "                  ,ended_at = \"01 - Rental Details Local End Time\"  \n",
    "                  ,start_station_name = \"03 - Rental Start Station Name\" \n",
    "                  ,start_station_id = \"03 - Rental Start Station ID\"\n",
    "                  ,end_station_name = \"02 - Rental End Station Name\" \n",
    "                  ,end_station_id = \"02 - Rental End Station ID\"\n",
    "                  ,member_casual = \"User Type\")\n",
    "\n",
    "q3_2019 <- rename(q3_2019\n",
    "                  ,ride_id = trip_id\n",
    "                  ,rideable_type = bikeid \n",
    "                  ,started_at = start_time  \n",
    "                  ,ended_at = end_time  \n",
    "                  ,start_station_name = from_station_name \n",
    "                  ,start_station_id = from_station_id \n",
    "                  ,end_station_name = to_station_name \n",
    "                  ,end_station_id = to_station_id \n",
    "                  ,member_casual = usertype)\n",
    "\n",
    "q4_2019 <- rename(q4_2019\n",
    "                   ,ride_id = trip_id\n",
    "                   ,rideable_type = bikeid \n",
    "                   ,started_at = start_time  \n",
    "                   ,ended_at = end_time  \n",
    "                   ,start_station_name = from_station_name \n",
    "                   ,start_station_id = from_station_id \n",
    "                   ,end_station_name = to_station_name \n",
    "                   ,end_station_id = to_station_id \n",
    "                   ,member_casual = usertype)"
   ]
  },
  {
   "cell_type": "code",
   "execution_count": 15,
   "id": "f99b11e8",
   "metadata": {},
   "outputs": [
    {
     "name": "stdout",
     "output_type": "stream",
     "text": [
      "spec_tbl_df [426,887 x 13] (S3: spec_tbl_df/tbl_df/tbl/data.frame)\n",
      " $ ride_id           : chr [1:426887] \"EACB19130B0CDA4A\" \"8FED874C809DC021\" \"789F3C21E472CA96\" \"C9A388DAC6ABF313\" ...\n",
      " $ rideable_type     : chr [1:426887] \"docked_bike\" \"docked_bike\" \"docked_bike\" \"docked_bike\" ...\n",
      " $ started_at        : POSIXct[1:426887], format: \"2020-01-21 20:06:59\" \"2020-01-30 14:22:39\" ...\n",
      " $ ended_at          : POSIXct[1:426887], format: \"2020-01-21 20:14:30\" \"2020-01-30 14:26:22\" ...\n",
      " $ start_station_name: chr [1:426887] \"Western Ave & Leland Ave\" \"Clark St & Montrose Ave\" \"Broadway & Belmont Ave\" \"Clark St & Randolph St\" ...\n",
      " $ start_station_id  : num [1:426887] 239 234 296 51 66 212 96 96 212 38 ...\n",
      " $ end_station_name  : chr [1:426887] \"Clark St & Leland Ave\" \"Southport Ave & Irving Park Rd\" \"Wilton Ave & Belmont Ave\" \"Fairbanks Ct & Grand Ave\" ...\n",
      " $ end_station_id    : num [1:426887] 326 318 117 24 212 96 212 212 96 100 ...\n",
      " $ start_lat         : num [1:426887] 42 42 41.9 41.9 41.9 ...\n",
      " $ start_lng         : num [1:426887] -87.7 -87.7 -87.6 -87.6 -87.6 ...\n",
      " $ end_lat           : num [1:426887] 42 42 41.9 41.9 41.9 ...\n",
      " $ end_lng           : num [1:426887] -87.7 -87.7 -87.7 -87.6 -87.6 ...\n",
      " $ member_casual     : chr [1:426887] \"member\" \"member\" \"member\" \"member\" ...\n",
      " - attr(*, \"spec\")=\n",
      "  .. cols(\n",
      "  ..   ride_id = \u001b[31mcol_character()\u001b[39m,\n",
      "  ..   rideable_type = \u001b[31mcol_character()\u001b[39m,\n",
      "  ..   started_at = \u001b[34mcol_datetime(format = \"\")\u001b[39m,\n",
      "  ..   ended_at = \u001b[34mcol_datetime(format = \"\")\u001b[39m,\n",
      "  ..   start_station_name = \u001b[31mcol_character()\u001b[39m,\n",
      "  ..   start_station_id = \u001b[32mcol_double()\u001b[39m,\n",
      "  ..   end_station_name = \u001b[31mcol_character()\u001b[39m,\n",
      "  ..   end_station_id = \u001b[32mcol_double()\u001b[39m,\n",
      "  ..   start_lat = \u001b[32mcol_double()\u001b[39m,\n",
      "  ..   start_lng = \u001b[32mcol_double()\u001b[39m,\n",
      "  ..   end_lat = \u001b[32mcol_double()\u001b[39m,\n",
      "  ..   end_lng = \u001b[32mcol_double()\u001b[39m,\n",
      "  ..   member_casual = \u001b[31mcol_character()\u001b[39m\n",
      "  .. )\n"
     ]
    }
   ],
   "source": [
    "str(q1_2020)"
   ]
  },
  {
   "cell_type": "code",
   "execution_count": 16,
   "id": "bac01462",
   "metadata": {},
   "outputs": [
    {
     "name": "stdout",
     "output_type": "stream",
     "text": [
      "spec_tbl_df [1,108,163 x 12] (S3: spec_tbl_df/tbl_df/tbl/data.frame)\n",
      " $ ride_id                                         : num [1:1108163] 22178529 22178530 22178531 22178532 22178533 ...\n",
      " $ started_at                                      : POSIXct[1:1108163], format: \"2019-04-01 00:02:22\" \"2019-04-01 00:03:02\" ...\n",
      " $ ended_at                                        : POSIXct[1:1108163], format: \"2019-04-01 00:09:48\" \"2019-04-01 00:20:30\" ...\n",
      " $ rideable_type                                   : num [1:1108163] 6251 6226 5649 4151 3270 ...\n",
      " $ 01 - Rental Details Duration In Seconds Uncapped: num [1:1108163] 446 1048 252 357 1007 ...\n",
      " $ start_station_id                                : num [1:1108163] 81 317 283 26 202 420 503 260 211 211 ...\n",
      " $ start_station_name                              : chr [1:1108163] \"Daley Center Plaza\" \"Wood St & Taylor St\" \"LaSalle St & Jackson Blvd\" \"McClurg Ct & Illinois St\" ...\n",
      " $ end_station_id                                  : num [1:1108163] 56 59 174 133 129 426 500 499 211 211 ...\n",
      " $ end_station_name                                : chr [1:1108163] \"Desplaines St & Kinzie St\" \"Wabash Ave & Roosevelt Rd\" \"Canal St & Madison St\" \"Kingsbury St & Kinzie St\" ...\n",
      " $ member_casual                                   : chr [1:1108163] \"Subscriber\" \"Subscriber\" \"Subscriber\" \"Subscriber\" ...\n",
      " $ Member Gender                                   : chr [1:1108163] \"Male\" \"Female\" \"Male\" \"Male\" ...\n",
      " $ 05 - Member Details Member Birthday Year        : num [1:1108163] 1975 1984 1990 1993 1992 ...\n",
      " - attr(*, \"spec\")=\n",
      "  .. cols(\n",
      "  ..   `01 - Rental Details Rental ID` = \u001b[32mcol_double()\u001b[39m,\n",
      "  ..   `01 - Rental Details Local Start Time` = \u001b[34mcol_datetime(format = \"\")\u001b[39m,\n",
      "  ..   `01 - Rental Details Local End Time` = \u001b[34mcol_datetime(format = \"\")\u001b[39m,\n",
      "  ..   `01 - Rental Details Bike ID` = \u001b[32mcol_double()\u001b[39m,\n",
      "  ..   `01 - Rental Details Duration In Seconds Uncapped` = \u001b[32mcol_number()\u001b[39m,\n",
      "  ..   `03 - Rental Start Station ID` = \u001b[32mcol_double()\u001b[39m,\n",
      "  ..   `03 - Rental Start Station Name` = \u001b[31mcol_character()\u001b[39m,\n",
      "  ..   `02 - Rental End Station ID` = \u001b[32mcol_double()\u001b[39m,\n",
      "  ..   `02 - Rental End Station Name` = \u001b[31mcol_character()\u001b[39m,\n",
      "  ..   `User Type` = \u001b[31mcol_character()\u001b[39m,\n",
      "  ..   `Member Gender` = \u001b[31mcol_character()\u001b[39m,\n",
      "  ..   `05 - Member Details Member Birthday Year` = \u001b[32mcol_double()\u001b[39m\n",
      "  .. )\n"
     ]
    }
   ],
   "source": [
    "str(q2_2019)"
   ]
  },
  {
   "cell_type": "code",
   "execution_count": 17,
   "id": "441d82c9",
   "metadata": {},
   "outputs": [
    {
     "name": "stdout",
     "output_type": "stream",
     "text": [
      "spec_tbl_df [1,640,718 x 12] (S3: spec_tbl_df/tbl_df/tbl/data.frame)\n",
      " $ ride_id           : num [1:1640718] 23479388 23479389 23479390 23479391 23479392 ...\n",
      " $ started_at        : POSIXct[1:1640718], format: \"2019-07-01 00:00:27\" \"2019-07-01 00:01:16\" ...\n",
      " $ ended_at          : POSIXct[1:1640718], format: \"2019-07-01 00:20:41\" \"2019-07-01 00:18:44\" ...\n",
      " $ rideable_type     : num [1:1640718] 3591 5353 6180 5540 6014 ...\n",
      " $ tripduration      : num [1:1640718] 1214 1048 1554 1503 1213 ...\n",
      " $ start_station_id  : num [1:1640718] 117 381 313 313 168 300 168 313 43 43 ...\n",
      " $ start_station_name: chr [1:1640718] \"Wilton Ave & Belmont Ave\" \"Western Ave & Monroe St\" \"Lakeview Ave & Fullerton Pkwy\" \"Lakeview Ave & Fullerton Pkwy\" ...\n",
      " $ end_station_id    : num [1:1640718] 497 203 144 144 62 232 62 144 195 195 ...\n",
      " $ end_station_name  : chr [1:1640718] \"Kimball Ave & Belmont Ave\" \"Western Ave & 21st St\" \"Larrabee St & Webster Ave\" \"Larrabee St & Webster Ave\" ...\n",
      " $ member_casual     : chr [1:1640718] \"Subscriber\" \"Customer\" \"Customer\" \"Customer\" ...\n",
      " $ gender            : chr [1:1640718] \"Male\" NA NA NA ...\n",
      " $ birthyear         : num [1:1640718] 1992 NA NA NA NA ...\n",
      " - attr(*, \"spec\")=\n",
      "  .. cols(\n",
      "  ..   trip_id = \u001b[32mcol_double()\u001b[39m,\n",
      "  ..   start_time = \u001b[34mcol_datetime(format = \"\")\u001b[39m,\n",
      "  ..   end_time = \u001b[34mcol_datetime(format = \"\")\u001b[39m,\n",
      "  ..   bikeid = \u001b[32mcol_double()\u001b[39m,\n",
      "  ..   tripduration = \u001b[32mcol_number()\u001b[39m,\n",
      "  ..   from_station_id = \u001b[32mcol_double()\u001b[39m,\n",
      "  ..   from_station_name = \u001b[31mcol_character()\u001b[39m,\n",
      "  ..   to_station_id = \u001b[32mcol_double()\u001b[39m,\n",
      "  ..   to_station_name = \u001b[31mcol_character()\u001b[39m,\n",
      "  ..   usertype = \u001b[31mcol_character()\u001b[39m,\n",
      "  ..   gender = \u001b[31mcol_character()\u001b[39m,\n",
      "  ..   birthyear = \u001b[32mcol_double()\u001b[39m\n",
      "  .. )\n"
     ]
    }
   ],
   "source": [
    "str(q3_2019)"
   ]
  },
  {
   "cell_type": "code",
   "execution_count": 18,
   "id": "2d67d47c",
   "metadata": {},
   "outputs": [
    {
     "name": "stdout",
     "output_type": "stream",
     "text": [
      "spec_tbl_df [704,054 x 12] (S3: spec_tbl_df/tbl_df/tbl/data.frame)\n",
      " $ ride_id           : num [1:704054] 25223640 25223641 25223642 25223643 25223644 ...\n",
      " $ started_at        : POSIXct[1:704054], format: \"2019-10-01 00:01:39\" \"2019-10-01 00:02:16\" ...\n",
      " $ ended_at          : POSIXct[1:704054], format: \"2019-10-01 00:17:20\" \"2019-10-01 00:06:34\" ...\n",
      " $ rideable_type     : num [1:704054] 2215 6328 3003 3275 5294 ...\n",
      " $ tripduration      : num [1:704054] 940 258 850 2350 1867 ...\n",
      " $ start_station_id  : num [1:704054] 20 19 84 313 210 156 84 156 156 336 ...\n",
      " $ start_station_name: chr [1:704054] \"Sheffield Ave & Kingsbury St\" \"Throop (Loomis) St & Taylor St\" \"Milwaukee Ave & Grand Ave\" \"Lakeview Ave & Fullerton Pkwy\" ...\n",
      " $ end_station_id    : num [1:704054] 309 241 199 290 382 226 142 463 463 336 ...\n",
      " $ end_station_name  : chr [1:704054] \"Leavitt St & Armitage Ave\" \"Morgan St & Polk St\" \"Wabash Ave & Grand Ave\" \"Kedzie Ave & Palmer Ct\" ...\n",
      " $ member_casual     : chr [1:704054] \"Subscriber\" \"Subscriber\" \"Subscriber\" \"Subscriber\" ...\n",
      " $ gender            : chr [1:704054] \"Male\" \"Male\" \"Female\" \"Male\" ...\n",
      " $ birthyear         : num [1:704054] 1987 1998 1991 1990 1987 ...\n",
      " - attr(*, \"spec\")=\n",
      "  .. cols(\n",
      "  ..   trip_id = \u001b[32mcol_double()\u001b[39m,\n",
      "  ..   start_time = \u001b[34mcol_datetime(format = \"\")\u001b[39m,\n",
      "  ..   end_time = \u001b[34mcol_datetime(format = \"\")\u001b[39m,\n",
      "  ..   bikeid = \u001b[32mcol_double()\u001b[39m,\n",
      "  ..   tripduration = \u001b[32mcol_number()\u001b[39m,\n",
      "  ..   from_station_id = \u001b[32mcol_double()\u001b[39m,\n",
      "  ..   from_station_name = \u001b[31mcol_character()\u001b[39m,\n",
      "  ..   to_station_id = \u001b[32mcol_double()\u001b[39m,\n",
      "  ..   to_station_name = \u001b[31mcol_character()\u001b[39m,\n",
      "  ..   usertype = \u001b[31mcol_character()\u001b[39m,\n",
      "  ..   gender = \u001b[31mcol_character()\u001b[39m,\n",
      "  ..   birthyear = \u001b[32mcol_double()\u001b[39m\n",
      "  .. )\n"
     ]
    }
   ],
   "source": [
    "str(q4_2019)"
   ]
  },
  {
   "cell_type": "markdown",
   "id": "a1792f47",
   "metadata": {},
   "source": [
    "### converting ride_id and rideable_type to char"
   ]
  },
  {
   "cell_type": "code",
   "execution_count": 19,
   "id": "addead49",
   "metadata": {},
   "outputs": [],
   "source": [
    "q2_2019 <-  mutate(q2_2019, ride_id = as.character(ride_id)\n",
    "                   ,rideable_type = as.character(rideable_type)) \n",
    "q3_2019 <-  mutate(q3_2019, ride_id = as.character(ride_id)\n",
    "                   ,rideable_type = as.character(rideable_type)) \n",
    "q4_2019 <-  mutate(q4_2019, ride_id = as.character(ride_id)\n",
    "                   ,rideable_type = as.character(rideable_type)) "
   ]
  },
  {
   "cell_type": "markdown",
   "id": "775db9a4",
   "metadata": {},
   "source": [
    "### creating one data frame"
   ]
  },
  {
   "cell_type": "code",
   "execution_count": 20,
   "id": "be56d497",
   "metadata": {},
   "outputs": [],
   "source": [
    "all_trips <- bind_rows(q2_2019, q3_2019, q4_2019, q1_2020)"
   ]
  },
  {
   "cell_type": "markdown",
   "id": "98f24f50",
   "metadata": {},
   "source": [
    "### removing irrelevant data"
   ]
  },
  {
   "cell_type": "code",
   "execution_count": 21,
   "id": "8e6cf3a9",
   "metadata": {},
   "outputs": [],
   "source": [
    "all_trips <- all_trips %>%  \n",
    "  select(-c(start_lat, start_lng, end_lat, end_lng, birthyear, gender, \"01 - Rental Details Duration In Seconds Uncapped\", \"05 - Member Details Member Birthday Year\", \"Member Gender\", \"tripduration\"))"
   ]
  },
  {
   "cell_type": "markdown",
   "id": "486fc721",
   "metadata": {},
   "source": [
    "# Reviewing the data and looking for problems"
   ]
  },
  {
   "cell_type": "code",
   "execution_count": 22,
   "id": "9eb8d7bd",
   "metadata": {},
   "outputs": [
    {
     "data": {
      "text/html": [
       "<ol class=list-inline>\n",
       "\t<li>'ride_id'</li>\n",
       "\t<li>'started_at'</li>\n",
       "\t<li>'ended_at'</li>\n",
       "\t<li>'rideable_type'</li>\n",
       "\t<li>'start_station_id'</li>\n",
       "\t<li>'start_station_name'</li>\n",
       "\t<li>'end_station_id'</li>\n",
       "\t<li>'end_station_name'</li>\n",
       "\t<li>'member_casual'</li>\n",
       "</ol>\n"
      ],
      "text/latex": [
       "\\begin{enumerate*}\n",
       "\\item 'ride\\_id'\n",
       "\\item 'started\\_at'\n",
       "\\item 'ended\\_at'\n",
       "\\item 'rideable\\_type'\n",
       "\\item 'start\\_station\\_id'\n",
       "\\item 'start\\_station\\_name'\n",
       "\\item 'end\\_station\\_id'\n",
       "\\item 'end\\_station\\_name'\n",
       "\\item 'member\\_casual'\n",
       "\\end{enumerate*}\n"
      ],
      "text/markdown": [
       "1. 'ride_id'\n",
       "2. 'started_at'\n",
       "3. 'ended_at'\n",
       "4. 'rideable_type'\n",
       "5. 'start_station_id'\n",
       "6. 'start_station_name'\n",
       "7. 'end_station_id'\n",
       "8. 'end_station_name'\n",
       "9. 'member_casual'\n",
       "\n",
       "\n"
      ],
      "text/plain": [
       "[1] \"ride_id\"            \"started_at\"         \"ended_at\"          \n",
       "[4] \"rideable_type\"      \"start_station_id\"   \"start_station_name\"\n",
       "[7] \"end_station_id\"     \"end_station_name\"   \"member_casual\"     "
      ]
     },
     "metadata": {},
     "output_type": "display_data"
    }
   ],
   "source": [
    "colnames(all_trips)"
   ]
  },
  {
   "cell_type": "code",
   "execution_count": 23,
   "id": "af421a9d",
   "metadata": {},
   "outputs": [
    {
     "data": {
      "text/html": [
       "<table>\n",
       "<thead><tr><th scope=col>ride_id</th><th scope=col>started_at</th><th scope=col>ended_at</th><th scope=col>rideable_type</th><th scope=col>start_station_id</th><th scope=col>start_station_name</th><th scope=col>end_station_id</th><th scope=col>end_station_name</th><th scope=col>member_casual</th></tr></thead>\n",
       "<tbody>\n",
       "\t<tr><td>22178529                                                         </td><td>2019-04-01 00:02:22                                              </td><td>2019-04-01 00:09:48                                              </td><td>6251                                                             </td><td> 81                                                              </td><td><span style=white-space:pre-wrap>Daley Center Plaza       </span></td><td> 56                                                              </td><td>Desplaines St &amp; Kinzie St                                    </td><td>Subscriber                                                       </td></tr>\n",
       "\t<tr><td>22178530                                                             </td><td>2019-04-01 00:03:02                                                  </td><td>2019-04-01 00:20:30                                                  </td><td>6226                                                                 </td><td>317                                                                  </td><td><span style=white-space:pre-wrap>Wood St &amp; Taylor St      </span></td><td> 59                                                                  </td><td>Wabash Ave &amp; Roosevelt Rd                                        </td><td>Subscriber                                                           </td></tr>\n",
       "\t<tr><td>22178531                                                             </td><td>2019-04-01 00:11:07                                                  </td><td>2019-04-01 00:15:19                                                  </td><td>5649                                                                 </td><td>283                                                                  </td><td>LaSalle St &amp; Jackson Blvd                                        </td><td>174                                                                  </td><td><span style=white-space:pre-wrap>Canal St &amp; Madison St    </span></td><td>Subscriber                                                           </td></tr>\n",
       "\t<tr><td>22178532                     </td><td>2019-04-01 00:13:01          </td><td>2019-04-01 00:18:58          </td><td>4151                         </td><td> 26                          </td><td>McClurg Ct &amp; Illinois St </td><td>133                          </td><td>Kingsbury St &amp; Kinzie St </td><td>Subscriber                   </td></tr>\n",
       "\t<tr><td>22178533                                                             </td><td>2019-04-01 00:19:26                                                  </td><td>2019-04-01 00:36:13                                                  </td><td>3270                                                                 </td><td>202                                                                  </td><td><span style=white-space:pre-wrap>Halsted St &amp; 18th St     </span></td><td>129                                                                  </td><td>Blue Island Ave &amp; 18th St                                        </td><td>Subscriber                                                           </td></tr>\n",
       "\t<tr><td>22178534                                                             </td><td>2019-04-01 00:19:39                                                  </td><td>2019-04-01 00:23:56                                                  </td><td>3123                                                                 </td><td>420                                                                  </td><td><span style=white-space:pre-wrap>Ellis Ave &amp; 55th St      </span></td><td>426                                                                  </td><td><span style=white-space:pre-wrap>Ellis Ave &amp; 60th St      </span></td><td>Subscriber                                                           </td></tr>\n",
       "</tbody>\n",
       "</table>\n"
      ],
      "text/latex": [
       "\\begin{tabular}{r|lllllllll}\n",
       " ride\\_id & started\\_at & ended\\_at & rideable\\_type & start\\_station\\_id & start\\_station\\_name & end\\_station\\_id & end\\_station\\_name & member\\_casual\\\\\n",
       "\\hline\n",
       "\t 22178529                    & 2019-04-01 00:02:22         & 2019-04-01 00:09:48         & 6251                        &  81                         & Daley Center Plaza          &  56                         & Desplaines St \\& Kinzie St & Subscriber                 \\\\\n",
       "\t 22178530                    & 2019-04-01 00:03:02         & 2019-04-01 00:20:30         & 6226                        & 317                         & Wood St \\& Taylor St       &  59                         & Wabash Ave \\& Roosevelt Rd & Subscriber                 \\\\\n",
       "\t 22178531                    & 2019-04-01 00:11:07         & 2019-04-01 00:15:19         & 5649                        & 283                         & LaSalle St \\& Jackson Blvd & 174                         & Canal St \\& Madison St     & Subscriber                 \\\\\n",
       "\t 22178532                    & 2019-04-01 00:13:01         & 2019-04-01 00:18:58         & 4151                        &  26                         & McClurg Ct \\& Illinois St  & 133                         & Kingsbury St \\& Kinzie St  & Subscriber                 \\\\\n",
       "\t 22178533                    & 2019-04-01 00:19:26         & 2019-04-01 00:36:13         & 3270                        & 202                         & Halsted St \\& 18th St      & 129                         & Blue Island Ave \\& 18th St & Subscriber                 \\\\\n",
       "\t 22178534                    & 2019-04-01 00:19:39         & 2019-04-01 00:23:56         & 3123                        & 420                         & Ellis Ave \\& 55th St       & 426                         & Ellis Ave \\& 60th St       & Subscriber                 \\\\\n",
       "\\end{tabular}\n"
      ],
      "text/markdown": [
       "\n",
       "| ride_id | started_at | ended_at | rideable_type | start_station_id | start_station_name | end_station_id | end_station_name | member_casual |\n",
       "|---|---|---|---|---|---|---|---|---|\n",
       "| 22178529                  | 2019-04-01 00:02:22       | 2019-04-01 00:09:48       | 6251                      |  81                       | Daley Center Plaza        |  56                       | Desplaines St & Kinzie St | Subscriber                |\n",
       "| 22178530                  | 2019-04-01 00:03:02       | 2019-04-01 00:20:30       | 6226                      | 317                       | Wood St & Taylor St       |  59                       | Wabash Ave & Roosevelt Rd | Subscriber                |\n",
       "| 22178531                  | 2019-04-01 00:11:07       | 2019-04-01 00:15:19       | 5649                      | 283                       | LaSalle St & Jackson Blvd | 174                       | Canal St & Madison St     | Subscriber                |\n",
       "| 22178532                  | 2019-04-01 00:13:01       | 2019-04-01 00:18:58       | 4151                      |  26                       | McClurg Ct & Illinois St  | 133                       | Kingsbury St & Kinzie St  | Subscriber                |\n",
       "| 22178533                  | 2019-04-01 00:19:26       | 2019-04-01 00:36:13       | 3270                      | 202                       | Halsted St & 18th St      | 129                       | Blue Island Ave & 18th St | Subscriber                |\n",
       "| 22178534                  | 2019-04-01 00:19:39       | 2019-04-01 00:23:56       | 3123                      | 420                       | Ellis Ave & 55th St       | 426                       | Ellis Ave & 60th St       | Subscriber                |\n",
       "\n"
      ],
      "text/plain": [
       "  ride_id  started_at          ended_at            rideable_type\n",
       "1 22178529 2019-04-01 00:02:22 2019-04-01 00:09:48 6251         \n",
       "2 22178530 2019-04-01 00:03:02 2019-04-01 00:20:30 6226         \n",
       "3 22178531 2019-04-01 00:11:07 2019-04-01 00:15:19 5649         \n",
       "4 22178532 2019-04-01 00:13:01 2019-04-01 00:18:58 4151         \n",
       "5 22178533 2019-04-01 00:19:26 2019-04-01 00:36:13 3270         \n",
       "6 22178534 2019-04-01 00:19:39 2019-04-01 00:23:56 3123         \n",
       "  start_station_id start_station_name        end_station_id\n",
       "1  81              Daley Center Plaza         56           \n",
       "2 317              Wood St & Taylor St        59           \n",
       "3 283              LaSalle St & Jackson Blvd 174           \n",
       "4  26              McClurg Ct & Illinois St  133           \n",
       "5 202              Halsted St & 18th St      129           \n",
       "6 420              Ellis Ave & 55th St       426           \n",
       "  end_station_name          member_casual\n",
       "1 Desplaines St & Kinzie St Subscriber   \n",
       "2 Wabash Ave & Roosevelt Rd Subscriber   \n",
       "3 Canal St & Madison St     Subscriber   \n",
       "4 Kingsbury St & Kinzie St  Subscriber   \n",
       "5 Blue Island Ave & 18th St Subscriber   \n",
       "6 Ellis Ave & 60th St       Subscriber   "
      ]
     },
     "metadata": {},
     "output_type": "display_data"
    }
   ],
   "source": [
    "head(all_trips)"
   ]
  },
  {
   "cell_type": "code",
   "execution_count": 24,
   "id": "4cdd67e9",
   "metadata": {},
   "outputs": [
    {
     "name": "stdout",
     "output_type": "stream",
     "text": [
      "tibble [3,879,822 x 9] (S3: tbl_df/tbl/data.frame)\n",
      " $ ride_id           : chr [1:3879822] \"22178529\" \"22178530\" \"22178531\" \"22178532\" ...\n",
      " $ started_at        : POSIXct[1:3879822], format: \"2019-04-01 00:02:22\" \"2019-04-01 00:03:02\" ...\n",
      " $ ended_at          : POSIXct[1:3879822], format: \"2019-04-01 00:09:48\" \"2019-04-01 00:20:30\" ...\n",
      " $ rideable_type     : chr [1:3879822] \"6251\" \"6226\" \"5649\" \"4151\" ...\n",
      " $ start_station_id  : num [1:3879822] 81 317 283 26 202 420 503 260 211 211 ...\n",
      " $ start_station_name: chr [1:3879822] \"Daley Center Plaza\" \"Wood St & Taylor St\" \"LaSalle St & Jackson Blvd\" \"McClurg Ct & Illinois St\" ...\n",
      " $ end_station_id    : num [1:3879822] 56 59 174 133 129 426 500 499 211 211 ...\n",
      " $ end_station_name  : chr [1:3879822] \"Desplaines St & Kinzie St\" \"Wabash Ave & Roosevelt Rd\" \"Canal St & Madison St\" \"Kingsbury St & Kinzie St\" ...\n",
      " $ member_casual     : chr [1:3879822] \"Subscriber\" \"Subscriber\" \"Subscriber\" \"Subscriber\" ...\n"
     ]
    }
   ],
   "source": [
    "str(all_trips)"
   ]
  },
  {
   "cell_type": "code",
   "execution_count": 25,
   "id": "3ef55ce3",
   "metadata": {},
   "outputs": [
    {
     "data": {
      "text/plain": [
       "   ride_id            started_at                     ended_at                  \n",
       " Length:3879822     Min.   :2019-04-01 00:02:22   Min.   :2019-04-01 00:09:48  \n",
       " Class :character   1st Qu.:2019-06-23 07:49:09   1st Qu.:2019-06-23 08:20:27  \n",
       " Mode  :character   Median :2019-08-14 17:43:38   Median :2019-08-14 18:02:04  \n",
       "                    Mean   :2019-08-26 00:49:59   Mean   :2019-08-26 01:14:37  \n",
       "                    3rd Qu.:2019-10-12 12:10:21   3rd Qu.:2019-10-12 12:36:16  \n",
       "                    Max.   :2020-03-31 23:51:34   Max.   :2020-05-19 20:10:34  \n",
       "                                                                               \n",
       " rideable_type      start_station_id start_station_name end_station_id \n",
       " Length:3879822     Min.   :  1.0    Length:3879822     Min.   :  1.0  \n",
       " Class :character   1st Qu.: 77.0    Class :character   1st Qu.: 77.0  \n",
       " Mode  :character   Median :174.0    Mode  :character   Median :174.0  \n",
       "                    Mean   :202.9                       Mean   :203.8  \n",
       "                    3rd Qu.:291.0                       3rd Qu.:291.0  \n",
       "                    Max.   :675.0                       Max.   :675.0  \n",
       "                                                        NA's   :1      \n",
       " end_station_name   member_casual     \n",
       " Length:3879822     Length:3879822    \n",
       " Class :character   Class :character  \n",
       " Mode  :character   Mode  :character  \n",
       "                                      \n",
       "                                      \n",
       "                                      \n",
       "                                      "
      ]
     },
     "metadata": {},
     "output_type": "display_data"
    }
   ],
   "source": [
    "summary(all_trips)"
   ]
  },
  {
   "cell_type": "markdown",
   "id": "63f84e38",
   "metadata": {},
   "source": [
    "# Cleaning up the data"
   ]
  },
  {
   "cell_type": "code",
   "execution_count": 26,
   "id": "b661ec33",
   "metadata": {},
   "outputs": [
    {
     "data": {
      "text/plain": [
       "\n",
       " casual  member \n",
       " 905954 2973868 "
      ]
     },
     "metadata": {},
     "output_type": "display_data"
    }
   ],
   "source": [
    "all_trips <-  all_trips %>% \n",
    "  mutate(member_casual = recode(member_casual\n",
    "                                ,\"Subscriber\" = \"member\"\n",
    "                                ,\"Customer\" = \"casual\"))\n",
    "\n",
    "table(all_trips$member_casual)"
   ]
  },
  {
   "cell_type": "markdown",
   "id": "f725dfcc",
   "metadata": {},
   "source": [
    "### adding new columns"
   ]
  },
  {
   "cell_type": "code",
   "execution_count": 27,
   "id": "234bdf5e",
   "metadata": {},
   "outputs": [],
   "source": [
    "all_trips$date <- as.Date(all_trips$started_at) \n",
    "all_trips$month <- format(as.Date(all_trips$date), \"%m\")\n",
    "all_trips$day <- format(as.Date(all_trips$date), \"%d\")\n",
    "all_trips$year <- format(as.Date(all_trips$date), \"%Y\")\n",
    "all_trips$day_of_week <- format(as.Date(all_trips$date), \"%A\")\n",
    "all_trips$ride_length <- difftime(all_trips$ended_at,all_trips$started_at)"
   ]
  },
  {
   "cell_type": "code",
   "execution_count": 28,
   "id": "4d6dcd6f",
   "metadata": {},
   "outputs": [
    {
     "name": "stdout",
     "output_type": "stream",
     "text": [
      "tibble [3,879,822 x 15] (S3: tbl_df/tbl/data.frame)\n",
      " $ ride_id           : chr [1:3879822] \"22178529\" \"22178530\" \"22178531\" \"22178532\" ...\n",
      " $ started_at        : POSIXct[1:3879822], format: \"2019-04-01 00:02:22\" \"2019-04-01 00:03:02\" ...\n",
      " $ ended_at          : POSIXct[1:3879822], format: \"2019-04-01 00:09:48\" \"2019-04-01 00:20:30\" ...\n",
      " $ rideable_type     : chr [1:3879822] \"6251\" \"6226\" \"5649\" \"4151\" ...\n",
      " $ start_station_id  : num [1:3879822] 81 317 283 26 202 420 503 260 211 211 ...\n",
      " $ start_station_name: chr [1:3879822] \"Daley Center Plaza\" \"Wood St & Taylor St\" \"LaSalle St & Jackson Blvd\" \"McClurg Ct & Illinois St\" ...\n",
      " $ end_station_id    : num [1:3879822] 56 59 174 133 129 426 500 499 211 211 ...\n",
      " $ end_station_name  : chr [1:3879822] \"Desplaines St & Kinzie St\" \"Wabash Ave & Roosevelt Rd\" \"Canal St & Madison St\" \"Kingsbury St & Kinzie St\" ...\n",
      " $ member_casual     : chr [1:3879822] \"member\" \"member\" \"member\" \"member\" ...\n",
      " $ date              : Date[1:3879822], format: \"2019-04-01\" \"2019-04-01\" ...\n",
      " $ month             : chr [1:3879822] \"04\" \"04\" \"04\" \"04\" ...\n",
      " $ day               : chr [1:3879822] \"01\" \"01\" \"01\" \"01\" ...\n",
      " $ year              : chr [1:3879822] \"2019\" \"2019\" \"2019\" \"2019\" ...\n",
      " $ day_of_week       : chr [1:3879822] \"poniedziałek\" \"poniedziałek\" \"poniedziałek\" \"poniedziałek\" ...\n",
      " $ ride_length       : 'difftime' num [1:3879822] 446 1048 252 357 ...\n",
      "  ..- attr(*, \"units\")= chr \"secs\"\n"
     ]
    }
   ],
   "source": [
    "str(all_trips)"
   ]
  },
  {
   "cell_type": "code",
   "execution_count": 29,
   "id": "07c08324",
   "metadata": {},
   "outputs": [
    {
     "data": {
      "text/html": [
       "FALSE"
      ],
      "text/latex": [
       "FALSE"
      ],
      "text/markdown": [
       "FALSE"
      ],
      "text/plain": [
       "[1] FALSE"
      ]
     },
     "metadata": {},
     "output_type": "display_data"
    }
   ],
   "source": [
    "is.factor(all_trips$ride_length) #we want it to be numeric"
   ]
  },
  {
   "cell_type": "code",
   "execution_count": 30,
   "id": "65cf6c8d",
   "metadata": {},
   "outputs": [
    {
     "data": {
      "text/html": [
       "TRUE"
      ],
      "text/latex": [
       "TRUE"
      ],
      "text/markdown": [
       "TRUE"
      ],
      "text/plain": [
       "[1] TRUE"
      ]
     },
     "metadata": {},
     "output_type": "display_data"
    }
   ],
   "source": [
    "all_trips$ride_length <- as.numeric(as.character(all_trips$ride_length))\n",
    "is.numeric(all_trips$ride_length)"
   ]
  },
  {
   "cell_type": "code",
   "execution_count": 31,
   "id": "8d5ab1a3",
   "metadata": {},
   "outputs": [],
   "source": [
    "#removing bad data\n",
    "all_trips_v2 <- all_trips[!(all_trips$start_station_name == \"HQ QR\" | all_trips$ride_length<0),]"
   ]
  },
  {
   "cell_type": "markdown",
   "id": "ad279fce",
   "metadata": {},
   "source": [
    "# Analysis"
   ]
  },
  {
   "cell_type": "code",
   "execution_count": 32,
   "id": "bc4d6251",
   "metadata": {},
   "outputs": [
    {
     "data": {
      "text/plain": [
       "   Min. 1st Qu.  Median    Mean 3rd Qu.    Max. \n",
       "      1     412     712    1479    1289 9387024 "
      ]
     },
     "metadata": {},
     "output_type": "display_data"
    }
   ],
   "source": [
    "summary(all_trips_v2$ride_length)"
   ]
  },
  {
   "cell_type": "markdown",
   "id": "a3b17379",
   "metadata": {},
   "source": [
    "### comparing members and casual users"
   ]
  },
  {
   "cell_type": "code",
   "execution_count": 33,
   "id": "9308c974",
   "metadata": {},
   "outputs": [
    {
     "data": {
      "text/html": [
       "<table>\n",
       "<thead><tr><th scope=col>all_trips_v2$member_casual</th><th scope=col>all_trips_v2$ride_length</th></tr></thead>\n",
       "<tbody>\n",
       "\t<tr><td>casual   </td><td>3552.7502</td></tr>\n",
       "\t<tr><td>member   </td><td> 850.0662</td></tr>\n",
       "</tbody>\n",
       "</table>\n"
      ],
      "text/latex": [
       "\\begin{tabular}{r|ll}\n",
       " all\\_trips\\_v2\\$member\\_casual & all\\_trips\\_v2\\$ride\\_length\\\\\n",
       "\\hline\n",
       "\t casual    & 3552.7502\\\\\n",
       "\t member    &  850.0662\\\\\n",
       "\\end{tabular}\n"
      ],
      "text/markdown": [
       "\n",
       "| all_trips_v2$member_casual | all_trips_v2$ride_length |\n",
       "|---|---|\n",
       "| casual    | 3552.7502 |\n",
       "| member    |  850.0662 |\n",
       "\n"
      ],
      "text/plain": [
       "  all_trips_v2$member_casual all_trips_v2$ride_length\n",
       "1 casual                     3552.7502               \n",
       "2 member                      850.0662               "
      ]
     },
     "metadata": {},
     "output_type": "display_data"
    }
   ],
   "source": [
    "aggregate(all_trips_v2$ride_length ~ all_trips_v2$member_casual, FUN = mean)"
   ]
  },
  {
   "cell_type": "code",
   "execution_count": 34,
   "id": "8eef19fc",
   "metadata": {},
   "outputs": [
    {
     "data": {
      "text/html": [
       "<table>\n",
       "<thead><tr><th scope=col>all_trips_v2$member_casual</th><th scope=col>all_trips_v2$ride_length</th></tr></thead>\n",
       "<tbody>\n",
       "\t<tr><td>casual</td><td>1546  </td></tr>\n",
       "\t<tr><td>member</td><td> 589  </td></tr>\n",
       "</tbody>\n",
       "</table>\n"
      ],
      "text/latex": [
       "\\begin{tabular}{r|ll}\n",
       " all\\_trips\\_v2\\$member\\_casual & all\\_trips\\_v2\\$ride\\_length\\\\\n",
       "\\hline\n",
       "\t casual & 1546  \\\\\n",
       "\t member &  589  \\\\\n",
       "\\end{tabular}\n"
      ],
      "text/markdown": [
       "\n",
       "| all_trips_v2$member_casual | all_trips_v2$ride_length |\n",
       "|---|---|\n",
       "| casual | 1546   |\n",
       "| member |  589   |\n",
       "\n"
      ],
      "text/plain": [
       "  all_trips_v2$member_casual all_trips_v2$ride_length\n",
       "1 casual                     1546                    \n",
       "2 member                      589                    "
      ]
     },
     "metadata": {},
     "output_type": "display_data"
    }
   ],
   "source": [
    "aggregate(all_trips_v2$ride_length ~ all_trips_v2$member_casual, FUN = median)"
   ]
  },
  {
   "cell_type": "code",
   "execution_count": 35,
   "id": "584056ee",
   "metadata": {},
   "outputs": [
    {
     "data": {
      "text/html": [
       "<table>\n",
       "<thead><tr><th scope=col>all_trips_v2$member_casual</th><th scope=col>all_trips_v2$ride_length</th></tr></thead>\n",
       "<tbody>\n",
       "\t<tr><td>casual </td><td>9387024</td></tr>\n",
       "\t<tr><td>member </td><td>9056634</td></tr>\n",
       "</tbody>\n",
       "</table>\n"
      ],
      "text/latex": [
       "\\begin{tabular}{r|ll}\n",
       " all\\_trips\\_v2\\$member\\_casual & all\\_trips\\_v2\\$ride\\_length\\\\\n",
       "\\hline\n",
       "\t casual  & 9387024\\\\\n",
       "\t member  & 9056634\\\\\n",
       "\\end{tabular}\n"
      ],
      "text/markdown": [
       "\n",
       "| all_trips_v2$member_casual | all_trips_v2$ride_length |\n",
       "|---|---|\n",
       "| casual  | 9387024 |\n",
       "| member  | 9056634 |\n",
       "\n"
      ],
      "text/plain": [
       "  all_trips_v2$member_casual all_trips_v2$ride_length\n",
       "1 casual                     9387024                 \n",
       "2 member                     9056634                 "
      ]
     },
     "metadata": {},
     "output_type": "display_data"
    }
   ],
   "source": [
    "aggregate(all_trips_v2$ride_length ~ all_trips_v2$member_casual, FUN = max)"
   ]
  },
  {
   "cell_type": "code",
   "execution_count": 36,
   "id": "77728d7f",
   "metadata": {},
   "outputs": [
    {
     "data": {
      "text/html": [
       "<table>\n",
       "<thead><tr><th scope=col>all_trips_v2$member_casual</th><th scope=col>all_trips_v2$ride_length</th></tr></thead>\n",
       "<tbody>\n",
       "\t<tr><td>casual</td><td>2     </td></tr>\n",
       "\t<tr><td>member</td><td>1     </td></tr>\n",
       "</tbody>\n",
       "</table>\n"
      ],
      "text/latex": [
       "\\begin{tabular}{r|ll}\n",
       " all\\_trips\\_v2\\$member\\_casual & all\\_trips\\_v2\\$ride\\_length\\\\\n",
       "\\hline\n",
       "\t casual & 2     \\\\\n",
       "\t member & 1     \\\\\n",
       "\\end{tabular}\n"
      ],
      "text/markdown": [
       "\n",
       "| all_trips_v2$member_casual | all_trips_v2$ride_length |\n",
       "|---|---|\n",
       "| casual | 2      |\n",
       "| member | 1      |\n",
       "\n"
      ],
      "text/plain": [
       "  all_trips_v2$member_casual all_trips_v2$ride_length\n",
       "1 casual                     2                       \n",
       "2 member                     1                       "
      ]
     },
     "metadata": {},
     "output_type": "display_data"
    }
   ],
   "source": [
    "aggregate(all_trips_v2$ride_length ~ all_trips_v2$member_casual, FUN = min)"
   ]
  },
  {
   "cell_type": "code",
   "execution_count": 37,
   "id": "cc1d6b52",
   "metadata": {},
   "outputs": [
    {
     "data": {
      "text/html": [
       "<table>\n",
       "<thead><tr><th scope=col>all_trips_v2$member_casual</th><th scope=col>all_trips_v2$day_of_week</th><th scope=col>all_trips_v2$ride_length</th></tr></thead>\n",
       "<tbody>\n",
       "\t<tr><td>casual      </td><td>czwartek    </td><td>3682.9847   </td></tr>\n",
       "\t<tr><td>member      </td><td>czwartek    </td><td> 823.9278   </td></tr>\n",
       "\t<tr><td>casual      </td><td>niedziela   </td><td>3581.4054   </td></tr>\n",
       "\t<tr><td>member      </td><td>niedziela   </td><td> 919.9746   </td></tr>\n",
       "\t<tr><td>casual      </td><td>piątek      </td><td>3773.8351   </td></tr>\n",
       "\t<tr><td>member      </td><td>piątek      </td><td> 824.5305   </td></tr>\n",
       "\t<tr><td>casual      </td><td>poniedziałek</td><td>3372.2869   </td></tr>\n",
       "\t<tr><td>member      </td><td>poniedziałek</td><td> 842.5726   </td></tr>\n",
       "\t<tr><td>casual      </td><td>sobota      </td><td>3331.9138   </td></tr>\n",
       "\t<tr><td>member      </td><td>sobota      </td><td> 968.9337   </td></tr>\n",
       "\t<tr><td>casual      </td><td>środa       </td><td>3718.6619   </td></tr>\n",
       "\t<tr><td>member      </td><td>środa       </td><td> 823.9996   </td></tr>\n",
       "\t<tr><td>casual      </td><td>wtorek      </td><td>3596.3599   </td></tr>\n",
       "\t<tr><td>member      </td><td>wtorek      </td><td> 826.1427   </td></tr>\n",
       "</tbody>\n",
       "</table>\n"
      ],
      "text/latex": [
       "\\begin{tabular}{r|lll}\n",
       " all\\_trips\\_v2\\$member\\_casual & all\\_trips\\_v2\\$day\\_of\\_week & all\\_trips\\_v2\\$ride\\_length\\\\\n",
       "\\hline\n",
       "\t casual       & czwartek     & 3682.9847   \\\\\n",
       "\t member       & czwartek     &  823.9278   \\\\\n",
       "\t casual       & niedziela    & 3581.4054   \\\\\n",
       "\t member       & niedziela    &  919.9746   \\\\\n",
       "\t casual       & piątek       & 3773.8351   \\\\\n",
       "\t member       & piątek       &  824.5305   \\\\\n",
       "\t casual       & poniedziałek & 3372.2869   \\\\\n",
       "\t member       & poniedziałek &  842.5726   \\\\\n",
       "\t casual       & sobota       & 3331.9138   \\\\\n",
       "\t member       & sobota       &  968.9337   \\\\\n",
       "\t casual       & środa        & 3718.6619   \\\\\n",
       "\t member       & środa        &  823.9996   \\\\\n",
       "\t casual       & wtorek       & 3596.3599   \\\\\n",
       "\t member       & wtorek       &  826.1427   \\\\\n",
       "\\end{tabular}\n"
      ],
      "text/markdown": [
       "\n",
       "| all_trips_v2$member_casual | all_trips_v2$day_of_week | all_trips_v2$ride_length |\n",
       "|---|---|---|\n",
       "| casual       | czwartek     | 3682.9847    |\n",
       "| member       | czwartek     |  823.9278    |\n",
       "| casual       | niedziela    | 3581.4054    |\n",
       "| member       | niedziela    |  919.9746    |\n",
       "| casual       | piątek       | 3773.8351    |\n",
       "| member       | piątek       |  824.5305    |\n",
       "| casual       | poniedziałek | 3372.2869    |\n",
       "| member       | poniedziałek |  842.5726    |\n",
       "| casual       | sobota       | 3331.9138    |\n",
       "| member       | sobota       |  968.9337    |\n",
       "| casual       | środa        | 3718.6619    |\n",
       "| member       | środa        |  823.9996    |\n",
       "| casual       | wtorek       | 3596.3599    |\n",
       "| member       | wtorek       |  826.1427    |\n",
       "\n"
      ],
      "text/plain": [
       "   all_trips_v2$member_casual all_trips_v2$day_of_week all_trips_v2$ride_length\n",
       "1  casual                     czwartek                 3682.9847               \n",
       "2  member                     czwartek                  823.9278               \n",
       "3  casual                     niedziela                3581.4054               \n",
       "4  member                     niedziela                 919.9746               \n",
       "5  casual                     piątek                   3773.8351               \n",
       "6  member                     piątek                    824.5305               \n",
       "7  casual                     poniedziałek             3372.2869               \n",
       "8  member                     poniedziałek              842.5726               \n",
       "9  casual                     sobota                   3331.9138               \n",
       "10 member                     sobota                    968.9337               \n",
       "11 casual                     środa                    3718.6619               \n",
       "12 member                     środa                     823.9996               \n",
       "13 casual                     wtorek                   3596.3599               \n",
       "14 member                     wtorek                    826.1427               "
      ]
     },
     "metadata": {},
     "output_type": "display_data"
    }
   ],
   "source": [
    "# avg ride time by day for both groups\n",
    "aggregate(all_trips_v2$ride_length ~ all_trips_v2$member_casual + all_trips_v2$day_of_week, FUN = mean)"
   ]
  },
  {
   "cell_type": "code",
   "execution_count": 38,
   "id": "fe893637",
   "metadata": {},
   "outputs": [],
   "source": [
    "all_trips_v2$day_of_week <- ordered(all_trips_v2$day_of_week, levels=c(\"Monday\", \"Tuesday\", \"Wednesday\", \"Thursday\", \"Friday\", \"Saturday\", \"Sunday\"))"
   ]
  },
  {
   "cell_type": "code",
   "execution_count": 40,
   "id": "0d7917a6",
   "metadata": {},
   "outputs": [
    {
     "name": "stderr",
     "output_type": "stream",
     "text": [
      "`summarise()` has grouped output by 'member_casual'. You can override using the `.groups` argument.\n",
      "\n"
     ]
    },
    {
     "data": {
      "text/html": [
       "<table>\n",
       "<thead><tr><th scope=col>member_casual</th><th scope=col>weekday</th><th scope=col>number_of_rides</th><th scope=col>average_duration</th></tr></thead>\n",
       "<tbody>\n",
       "\t<tr><td>casual   </td><td>niedz\\. </td><td>181293   </td><td>3581.4054</td></tr>\n",
       "\t<tr><td>casual   </td><td>pon\\.   </td><td>103296   </td><td>3372.2869</td></tr>\n",
       "\t<tr><td>casual   </td><td>wt\\.    </td><td> 90510   </td><td>3596.3599</td></tr>\n",
       "\t<tr><td>casual   </td><td>śr\\.    </td><td> 92457   </td><td>3718.6619</td></tr>\n",
       "\t<tr><td>casual   </td><td>czw\\.   </td><td>102679   </td><td>3682.9847</td></tr>\n",
       "\t<tr><td>casual   </td><td>pt\\.    </td><td>122404   </td><td>3773.8351</td></tr>\n",
       "\t<tr><td>casual   </td><td>sob\\.   </td><td>209543   </td><td>3331.9138</td></tr>\n",
       "\t<tr><td>member   </td><td>niedz\\. </td><td>267965   </td><td> 919.9746</td></tr>\n",
       "\t<tr><td>member   </td><td>pon\\.   </td><td>472196   </td><td> 842.5726</td></tr>\n",
       "\t<tr><td>member   </td><td>wt\\.    </td><td>508445   </td><td> 826.1427</td></tr>\n",
       "\t<tr><td>member   </td><td>śr\\.    </td><td>500329   </td><td> 823.9996</td></tr>\n",
       "\t<tr><td>member   </td><td>czw\\.   </td><td>484177   </td><td> 823.9278</td></tr>\n",
       "\t<tr><td>member   </td><td>pt\\.    </td><td>452790   </td><td> 824.5305</td></tr>\n",
       "\t<tr><td>member   </td><td>sob\\.   </td><td>287958   </td><td> 968.9337</td></tr>\n",
       "</tbody>\n",
       "</table>\n"
      ],
      "text/latex": [
       "\\begin{tabular}{r|llll}\n",
       " member\\_casual & weekday & number\\_of\\_rides & average\\_duration\\\\\n",
       "\\hline\n",
       "\t casual                  & niedz\\textbackslash{}. & 181293                  & 3581.4054              \\\\\n",
       "\t casual                  & pon\\textbackslash{}.   & 103296                  & 3372.2869              \\\\\n",
       "\t casual                  & wt\\textbackslash{}.    &  90510                  & 3596.3599              \\\\\n",
       "\t casual                  & śr\\textbackslash{}.    &  92457                  & 3718.6619              \\\\\n",
       "\t casual                  & czw\\textbackslash{}.   & 102679                  & 3682.9847              \\\\\n",
       "\t casual                  & pt\\textbackslash{}.    & 122404                  & 3773.8351              \\\\\n",
       "\t casual                  & sob\\textbackslash{}.   & 209543                  & 3331.9138              \\\\\n",
       "\t member                  & niedz\\textbackslash{}. & 267965                  &  919.9746              \\\\\n",
       "\t member                  & pon\\textbackslash{}.   & 472196                  &  842.5726              \\\\\n",
       "\t member                  & wt\\textbackslash{}.    & 508445                  &  826.1427              \\\\\n",
       "\t member                  & śr\\textbackslash{}.    & 500329                  &  823.9996              \\\\\n",
       "\t member                  & czw\\textbackslash{}.   & 484177                  &  823.9278              \\\\\n",
       "\t member                  & pt\\textbackslash{}.    & 452790                  &  824.5305              \\\\\n",
       "\t member                  & sob\\textbackslash{}.   & 287958                  &  968.9337              \\\\\n",
       "\\end{tabular}\n"
      ],
      "text/markdown": [
       "\n",
       "| member_casual | weekday | number_of_rides | average_duration |\n",
       "|---|---|---|---|\n",
       "| casual    | niedz\\.  | 181293    | 3581.4054 |\n",
       "| casual    | pon\\.    | 103296    | 3372.2869 |\n",
       "| casual    | wt\\.     |  90510    | 3596.3599 |\n",
       "| casual    | śr\\.     |  92457    | 3718.6619 |\n",
       "| casual    | czw\\.    | 102679    | 3682.9847 |\n",
       "| casual    | pt\\.     | 122404    | 3773.8351 |\n",
       "| casual    | sob\\.    | 209543    | 3331.9138 |\n",
       "| member    | niedz\\.  | 267965    |  919.9746 |\n",
       "| member    | pon\\.    | 472196    |  842.5726 |\n",
       "| member    | wt\\.     | 508445    |  826.1427 |\n",
       "| member    | śr\\.     | 500329    |  823.9996 |\n",
       "| member    | czw\\.    | 484177    |  823.9278 |\n",
       "| member    | pt\\.     | 452790    |  824.5305 |\n",
       "| member    | sob\\.    | 287958    |  968.9337 |\n",
       "\n"
      ],
      "text/plain": [
       "   member_casual weekday  number_of_rides average_duration\n",
       "1  casual        niedz\\\\. 181293          3581.4054       \n",
       "2  casual        pon\\\\.   103296          3372.2869       \n",
       "3  casual        wt\\\\.     90510          3596.3599       \n",
       "4  casual        śr\\\\.     92457          3718.6619       \n",
       "5  casual        czw\\\\.   102679          3682.9847       \n",
       "6  casual        pt\\\\.    122404          3773.8351       \n",
       "7  casual        sob\\\\.   209543          3331.9138       \n",
       "8  member        niedz\\\\. 267965           919.9746       \n",
       "9  member        pon\\\\.   472196           842.5726       \n",
       "10 member        wt\\\\.    508445           826.1427       \n",
       "11 member        śr\\\\.    500329           823.9996       \n",
       "12 member        czw\\\\.   484177           823.9278       \n",
       "13 member        pt\\\\.    452790           824.5305       \n",
       "14 member        sob\\\\.   287958           968.9337       "
      ]
     },
     "metadata": {},
     "output_type": "display_data"
    }
   ],
   "source": [
    "all_trips_v2 %>% \n",
    "  mutate(weekday = wday(started_at, label = TRUE)) %>%  \n",
    "  group_by(member_casual, weekday) %>%  \n",
    "  summarise(number_of_rides = n()\n",
    "            ,average_duration = mean(ride_length)) %>%\n",
    "  arrange(member_casual, weekday)"
   ]
  },
  {
   "cell_type": "markdown",
   "id": "5de0cc40",
   "metadata": {},
   "source": [
    "# Visualizing"
   ]
  },
  {
   "cell_type": "code",
   "execution_count": 41,
   "id": "c112e3e3",
   "metadata": {},
   "outputs": [
    {
     "name": "stderr",
     "output_type": "stream",
     "text": [
      "`summarise()` has grouped output by 'member_casual'. You can override using the `.groups` argument.\n",
      "\n"
     ]
    },
    {
     "data": {
      "image/png": "[encoded data removed]",
      "text/plain": [
       "plot without title"
      ]
     },
     "metadata": {
      "image/png": {
       "height": 420,
       "width": 420
      }
     },
     "output_type": "display_data"
    }
   ],
   "source": [
    "all_trips_v2 %>% \n",
    "  mutate(weekday = wday(started_at, label = TRUE)) %>% \n",
    "  group_by(member_casual, weekday) %>% \n",
    "  summarise(number_of_rides = n()\n",
    "            ,average_duration = mean(ride_length)) %>% \n",
    "  arrange(member_casual, weekday)  %>% \n",
    "  ggplot(aes(x = weekday, y = number_of_rides, fill = member_casual)) +\n",
    "  geom_col(position = \"dodge\") +\n",
    "  labs(\n",
    "      title = \"Number of rides by rider type\",\n",
    "      subtitle = \"Sorted by weekday\"\n",
    "      )"
   ]
  },
  {
   "cell_type": "code",
   "execution_count": 42,
   "id": "5ac93735",
   "metadata": {},
   "outputs": [
    {
     "name": "stderr",
     "output_type": "stream",
     "text": [
      "`summarise()` has grouped output by 'member_casual'. You can override using the `.groups` argument.\n",
      "\n"
     ]
    },
    {
     "data": {
      "image/png": "[encoded data removed]",
      "text/plain": [
       "plot without title"
      ]
     },
     "metadata": {
      "image/png": {
       "height": 420,
       "width": 420
      }
     },
     "output_type": "display_data"
    }
   ],
   "source": [
    "all_trips_v2 %>% \n",
    "  mutate(weekday = wday(started_at, label = TRUE)) %>% \n",
    "  group_by(member_casual, weekday) %>% \n",
    "  summarise(number_of_rides = n()\n",
    "            ,average_duration = mean(ride_length)) %>% \n",
    "  arrange(member_casual, weekday)  %>% \n",
    "  ggplot(aes(x = weekday, y = average_duration, fill = member_casual)) +\n",
    "  geom_col(position = \"dodge\") +\n",
    "  labs(title = \"Average duration by rider type\",\n",
    "       subtitle = \"Sorted by weekday\")"
   ]
  },
  {
   "cell_type": "code",
   "execution_count": 43,
   "id": "861abc53",
   "metadata": {},
   "outputs": [
    {
     "name": "stderr",
     "output_type": "stream",
     "text": [
      "`summarise()` has grouped output by 'member_casual'. You can override using the `.groups` argument.\n",
      "\n"
     ]
    },
    {
     "data": {
      "image/png": "[encoded data removed]",
      "text/plain": [
       "plot without title"
      ]
     },
     "metadata": {
      "image/png": {
       "height": 420,
       "width": 420
      }
     },
     "output_type": "display_data"
    }
   ],
   "source": [
    "all_trips_v2 %>% \n",
    "  mutate(weekday = wday(started_at, label = TRUE)) %>% \n",
    "  group_by(member_casual, month) %>% \n",
    "  summarise(number_of_rides = n()\n",
    "            ,average_duration = mean(ride_length)) %>% \n",
    "  arrange(member_casual, month)  %>% \n",
    "  ggplot(aes(x = month, y = average_duration, fill = member_casual)) +\n",
    "  geom_col(position = \"dodge\") + \n",
    "  labs(title = \"Average duration by rider type\", \n",
    "       subtitle = \"Sorted by month\")"
   ]
  }
 ],
 "metadata": {
  "kernelspec": {
   "display_name": "R",
   "language": "R",
   "name": "ir"
  },
  "language_info": {
   "codemirror_mode": "r",
   "file_extension": ".r",
   "mimetype": "text/x-r-source",
   "name": "R",
   "pygments_lexer": "r",
   "version": "3.6.3"
  }
 },
 "nbformat": 4,
 "nbformat_minor": 5
}

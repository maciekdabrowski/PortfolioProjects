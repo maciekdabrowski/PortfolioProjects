{
  "nbformat": 4,
  "nbformat_minor": 0,
  "metadata": {
    "colab": {
      "provenance": [],
      "authorship_tag": "ABX9TyPhoWZiHZu5Q9yoFPA+VZyH",
      "include_colab_link": true
    },
    "kernelspec": {
      "name": "python3",
      "display_name": "Python 3"
    },
    "language_info": {
      "name": "python"
    }
  },
  "cells": [
    {
      "cell_type": "markdown",
      "metadata": {
        "id": "view-in-github",
        "colab_type": "text"
      },
      "source": [
        "<a href=\"https://colab.research.google.com/github/maciekdabrowski/PortfolioProjects/blob/main/rtbhouse.ipynb\" target=\"_parent\"><img src=\"https://colab.research.google.com/assets/colab-badge.svg\" alt=\"Open In Colab\"/></a>"
      ]
    },
    {
      "cell_type": "code",
      "execution_count": 1,
      "metadata": {
        "id": "Sl_4M0utuzn1"
      },
      "outputs": [],
      "source": [
        "import sqlite3"
      ]
    },
    {
      "cell_type": "code",
      "source": [
        "from google.colab import files\n",
        "uploaded = files.upload()"
      ],
      "metadata": {
        "colab": {
          "base_uri": "https://localhost:8080/",
          "height": 73
        },
        "id": "T5XzTKqFvCzT",
        "outputId": "713f2e48-a827-4a0b-f658-053be98ca865"
      },
      "execution_count": 2,
      "outputs": [
        {
          "output_type": "display_data",
          "data": {
            "text/plain": [
              "<IPython.core.display.HTML object>"
            ],
            "text/html": [
              "\n",
              "     <input type=\"file\" id=\"files-0c634c10-1883-4a5a-8e78-feed333028df\" name=\"files[]\" multiple disabled\n",
              "        style=\"border:none\" />\n",
              "     <output id=\"result-0c634c10-1883-4a5a-8e78-feed333028df\">\n",
              "      Upload widget is only available when the cell has been executed in the\n",
              "      current browser session. Please rerun this cell to enable.\n",
              "      </output>\n",
              "      <script>// Copyright 2017 Google LLC\n",
              "//\n",
              "// Licensed under the Apache License, Version 2.0 (the \"License\");\n",
              "// you may not use this file except in compliance with the License.\n",
              "// You may obtain a copy of the License at\n",
              "//\n",
              "//      http://www.apache.org/licenses/LICENSE-2.0\n",
              "//\n",
              "// Unless required by applicable law or agreed to in writing, software\n",
              "// distributed under the License is distributed on an \"AS IS\" BASIS,\n",
              "// WITHOUT WARRANTIES OR CONDITIONS OF ANY KIND, either express or implied.\n",
              "// See the License for the specific language governing permissions and\n",
              "// limitations under the License.\n",
              "\n",
              "/**\n",
              " * @fileoverview Helpers for google.colab Python module.\n",
              " */\n",
              "(function(scope) {\n",
              "function span(text, styleAttributes = {}) {\n",
              "  const element = document.createElement('span');\n",
              "  element.textContent = text;\n",
              "  for (const key of Object.keys(styleAttributes)) {\n",
              "    element.style[key] = styleAttributes[key];\n",
              "  }\n",
              "  return element;\n",
              "}\n",
              "\n",
              "// Max number of bytes which will be uploaded at a time.\n",
              "const MAX_PAYLOAD_SIZE = 100 * 1024;\n",
              "\n",
              "function _uploadFiles(inputId, outputId) {\n",
              "  const steps = uploadFilesStep(inputId, outputId);\n",
              "  const outputElement = document.getElementById(outputId);\n",
              "  // Cache steps on the outputElement to make it available for the next call\n",
              "  // to uploadFilesContinue from Python.\n",
              "  outputElement.steps = steps;\n",
              "\n",
              "  return _uploadFilesContinue(outputId);\n",
              "}\n",
              "\n",
              "// This is roughly an async generator (not supported in the browser yet),\n",
              "// where there are multiple asynchronous steps and the Python side is going\n",
              "// to poll for completion of each step.\n",
              "// This uses a Promise to block the python side on completion of each step,\n",
              "// then passes the result of the previous step as the input to the next step.\n",
              "function _uploadFilesContinue(outputId) {\n",
              "  const outputElement = document.getElementById(outputId);\n",
              "  const steps = outputElement.steps;\n",
              "\n",
              "  const next = steps.next(outputElement.lastPromiseValue);\n",
              "  return Promise.resolve(next.value.promise).then((value) => {\n",
              "    // Cache the last promise value to make it available to the next\n",
              "    // step of the generator.\n",
              "    outputElement.lastPromiseValue = value;\n",
              "    return next.value.response;\n",
              "  });\n",
              "}\n",
              "\n",
              "/**\n",
              " * Generator function which is called between each async step of the upload\n",
              " * process.\n",
              " * @param {string} inputId Element ID of the input file picker element.\n",
              " * @param {string} outputId Element ID of the output display.\n",
              " * @return {!Iterable<!Object>} Iterable of next steps.\n",
              " */\n",
              "function* uploadFilesStep(inputId, outputId) {\n",
              "  const inputElement = document.getElementById(inputId);\n",
              "  inputElement.disabled = false;\n",
              "\n",
              "  const outputElement = document.getElementById(outputId);\n",
              "  outputElement.innerHTML = '';\n",
              "\n",
              "  const pickedPromise = new Promise((resolve) => {\n",
              "    inputElement.addEventListener('change', (e) => {\n",
              "      resolve(e.target.files);\n",
              "    });\n",
              "  });\n",
              "\n",
              "  const cancel = document.createElement('button');\n",
              "  inputElement.parentElement.appendChild(cancel);\n",
              "  cancel.textContent = 'Cancel upload';\n",
              "  const cancelPromise = new Promise((resolve) => {\n",
              "    cancel.onclick = () => {\n",
              "      resolve(null);\n",
              "    };\n",
              "  });\n",
              "\n",
              "  // Wait for the user to pick the files.\n",
              "  const files = yield {\n",
              "    promise: Promise.race([pickedPromise, cancelPromise]),\n",
              "    response: {\n",
              "      action: 'starting',\n",
              "    }\n",
              "  };\n",
              "\n",
              "  cancel.remove();\n",
              "\n",
              "  // Disable the input element since further picks are not allowed.\n",
              "  inputElement.disabled = true;\n",
              "\n",
              "  if (!files) {\n",
              "    return {\n",
              "      response: {\n",
              "        action: 'complete',\n",
              "      }\n",
              "    };\n",
              "  }\n",
              "\n",
              "  for (const file of files) {\n",
              "    const li = document.createElement('li');\n",
              "    li.append(span(file.name, {fontWeight: 'bold'}));\n",
              "    li.append(span(\n",
              "        `(${file.type || 'n/a'}) - ${file.size} bytes, ` +\n",
              "        `last modified: ${\n",
              "            file.lastModifiedDate ? file.lastModifiedDate.toLocaleDateString() :\n",
              "                                    'n/a'} - `));\n",
              "    const percent = span('0% done');\n",
              "    li.appendChild(percent);\n",
              "\n",
              "    outputElement.appendChild(li);\n",
              "\n",
              "    const fileDataPromise = new Promise((resolve) => {\n",
              "      const reader = new FileReader();\n",
              "      reader.onload = (e) => {\n",
              "        resolve(e.target.result);\n",
              "      };\n",
              "      reader.readAsArrayBuffer(file);\n",
              "    });\n",
              "    // Wait for the data to be ready.\n",
              "    let fileData = yield {\n",
              "      promise: fileDataPromise,\n",
              "      response: {\n",
              "        action: 'continue',\n",
              "      }\n",
              "    };\n",
              "\n",
              "    // Use a chunked sending to avoid message size limits. See b/62115660.\n",
              "    let position = 0;\n",
              "    do {\n",
              "      const length = Math.min(fileData.byteLength - position, MAX_PAYLOAD_SIZE);\n",
              "      const chunk = new Uint8Array(fileData, position, length);\n",
              "      position += length;\n",
              "\n",
              "      const base64 = btoa(String.fromCharCode.apply(null, chunk));\n",
              "      yield {\n",
              "        response: {\n",
              "          action: 'append',\n",
              "          file: file.name,\n",
              "          data: base64,\n",
              "        },\n",
              "      };\n",
              "\n",
              "      let percentDone = fileData.byteLength === 0 ?\n",
              "          100 :\n",
              "          Math.round((position / fileData.byteLength) * 100);\n",
              "      percent.textContent = `${percentDone}% done`;\n",
              "\n",
              "    } while (position < fileData.byteLength);\n",
              "  }\n",
              "\n",
              "  // All done.\n",
              "  yield {\n",
              "    response: {\n",
              "      action: 'complete',\n",
              "    }\n",
              "  };\n",
              "}\n",
              "\n",
              "scope.google = scope.google || {};\n",
              "scope.google.colab = scope.google.colab || {};\n",
              "scope.google.colab._files = {\n",
              "  _uploadFiles,\n",
              "  _uploadFilesContinue,\n",
              "};\n",
              "})(self);\n",
              "</script> "
            ]
          },
          "metadata": {}
        },
        {
          "output_type": "stream",
          "name": "stdout",
          "text": [
            "Saving rtbhouse.db to rtbhouse.db\n"
          ]
        }
      ]
    },
    {
      "cell_type": "code",
      "source": [
        "%load_ext sql"
      ],
      "metadata": {
        "id": "DYnn0jUa4JXn"
      },
      "execution_count": 4,
      "outputs": []
    },
    {
      "cell_type": "code",
      "source": [
        "%sql sqlite:///rtbhouse.db"
      ],
      "metadata": {
        "id": "Vzs3p5Em4RdG"
      },
      "execution_count": 6,
      "outputs": []
    },
    {
      "cell_type": "code",
      "source": [
        "import pandas as pd"
      ],
      "metadata": {
        "id": "7Z7iG6QH6U-g"
      },
      "execution_count": 18,
      "outputs": []
    },
    {
      "cell_type": "code",
      "source": [
        "conn = sqlite3.connect(\"rtbhouse.db\")"
      ],
      "metadata": {
        "id": "N6Jodlt26V5F"
      },
      "execution_count": 21,
      "outputs": []
    },
    {
      "cell_type": "code",
      "source": [
        "query = '''\n",
        "\n",
        "WITH distinct_products AS (\n",
        "    SELECT DISTINCT\n",
        "        id\n",
        "        , brand\n",
        "    FROM products\n",
        ")\n",
        "\n",
        ", clicks_count AS (\n",
        "    SELECT\n",
        "        SUBSTR(c.date, 1, 7) AS month\n",
        "        , c.campaign_id\n",
        "        , dp.brand\n",
        "        , COUNT(c.user_id) AS number_of_clicks\n",
        "    FROM clicks c\n",
        "    LEFT JOIN distinct_products dp\n",
        "        ON c.product_id = dp.id\n",
        "    GROUP BY month, c.campaign_id, dp.brand\n",
        ")\n",
        "\n",
        ", earliest_clicks AS (\n",
        "    SELECT\n",
        "        user_id\n",
        "        , campaign_id\n",
        "        , product_id\n",
        "        , dp.brand\n",
        "        , MIN(date) AS first_click_date\n",
        "    FROM clicks c\n",
        "    LEFT JOIN distinct_products dp\n",
        "        ON c.product_id = dp.id\n",
        "    GROUP BY\n",
        "        user_id, campaign_id, product_id, dp.brand\n",
        ")\n",
        "\n",
        ", transactions_cte_rn AS (\n",
        "    SELECT\n",
        "      transaction_id\n",
        "      , user_id\n",
        "      , campaign_id\n",
        "      , date\n",
        "      , transaction_value\n",
        "      , ROW_NUMBER() OVER (PARTITION BY transaction_id, user_id, campaign_id ORDER BY date DESC) AS rn\n",
        "    FROM transactions\n",
        ")\n",
        "\n",
        ", transactions_cte AS (\n",
        "    SELECT\n",
        "      transaction_id\n",
        "      , user_id\n",
        "      , campaign_id\n",
        "      , MIN(date) AS earliest_transaction\n",
        "      , MAX(CASE WHEN rn = 1 THEN transaction_value END) AS latest_value\n",
        "    FROM transactions_cte_rn\n",
        "    GROUP BY transaction_id, user_id, campaign_id\n",
        ")\n",
        "\n",
        ", post_click_transactions AS (\n",
        "    SELECT\n",
        "        SUBSTR(date(t.earliest_transaction), 1, 7) AS month\n",
        "        , t.campaign_id\n",
        "        , dp.brand\n",
        "        , COUNT(DISTINCT t.transaction_id) AS number_of_transactions\n",
        "        , SUM(t.latest_value) AS value_of_products\n",
        "    FROM transactions_cte t\n",
        "    LEFT JOIN transactions_products p\n",
        "        USING(transaction_id)\n",
        "    LEFT JOIN distinct_products dp\n",
        "        ON p.product_id = dp.id\n",
        "    INNER JOIN earliest_clicks ec\n",
        "        USING(user_id, campaign_id, brand)\n",
        "    WHERE t.earliest_transaction > ec.first_click_date\n",
        "    GROUP BY month, t.campaign_id, dp.brand\n",
        ")\n",
        "\n",
        "SELECT\n",
        "    cc.month\n",
        "    , cc.campaign_id\n",
        "    , cc.brand\n",
        "    , cc.number_of_clicks\n",
        "    , COALESCE(pct.number_of_transactions, 0) AS number_of_transactions\n",
        "    , ROUND((0.01 * COALESCE(cc.number_of_clicks,0) + 0.1 * COALESCE(pct.value_of_products,0)), 2) AS advertising_campaign_cost\n",
        "    , ROUND(COALESCE(pct.value_of_products, 0), 2) AS value_of_products\n",
        "FROM clicks_count cc\n",
        "LEFT JOIN post_click_transactions pct\n",
        "    USING (month, campaign_id, brand)\n",
        "\n",
        "'''"
      ],
      "metadata": {
        "id": "fvOoIEct4AL2"
      },
      "execution_count": 49,
      "outputs": []
    },
    {
      "cell_type": "code",
      "source": [
        "df_report = pd.read_sql_query(query, conn)"
      ],
      "metadata": {
        "id": "FejKIM3l6tp8"
      },
      "execution_count": 50,
      "outputs": []
    },
    {
      "cell_type": "code",
      "source": [
        "df_report.to_csv('rtbhouse_results.csv', index=False)"
      ],
      "metadata": {
        "id": "YHaYc06F9iGT"
      },
      "execution_count": 51,
      "outputs": []
    }
  ]
}